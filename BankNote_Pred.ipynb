{
  "nbformat": 4,
  "nbformat_minor": 0,
  "metadata": {
    "colab": {
      "name": "BankNote_Pred.ipynb",
      "provenance": [],
      "authorship_tag": "ABX9TyNtMqWjo2pMjNye6py4SPWO",
      "include_colab_link": true
    },
    "kernelspec": {
      "name": "python3",
      "display_name": "Python 3"
    }
  },
  "cells": [
    {
      "cell_type": "markdown",
      "metadata": {
        "id": "view-in-github",
        "colab_type": "text"
      },
      "source": [
        "<a href=\"https://colab.research.google.com/github/ajitjaison/Datathons/blob/master/BankNote_Pred.ipynb\" target=\"_parent\"><img src=\"https://colab.research.google.com/assets/colab-badge.svg\" alt=\"Open In Colab\"/></a>"
      ]
    },
    {
      "cell_type": "markdown",
      "metadata": {
        "id": "v-2KMc0tt8Wa",
        "colab_type": "text"
      },
      "source": [
        "#BankNote - Predict is a note is genuine or not\n",
        "##Deep Learning Bootcamp - Assignment 1 - Beginners on <font color='green'>DPhi</font>\n",
        "#### Author: Jaison AJ\n"
      ]
    },
    {
      "cell_type": "markdown",
      "metadata": {
        "id": "ZxyvNB4ZuFlc",
        "colab_type": "text"
      },
      "source": [
        "### Loading Libraries"
      ]
    },
    {
      "cell_type": "code",
      "metadata": {
        "id": "S_BCFP5ihR8d",
        "colab_type": "code",
        "colab": {}
      },
      "source": [
        "import pandas as pd\n",
        "import numpy as np"
      ],
      "execution_count": 1,
      "outputs": []
    },
    {
      "cell_type": "markdown",
      "metadata": {
        "id": "-B7E6pNlucmA",
        "colab_type": "text"
      },
      "source": [
        "###Loading Dataset"
      ]
    },
    {
      "cell_type": "code",
      "metadata": {
        "id": "4otr1iJHheNq",
        "colab_type": "code",
        "colab": {}
      },
      "source": [
        "train_data = pd.read_csv(\"https://raw.githubusercontent.com/dphi-official/Datasets/master/bank_note_data/training_set_label.csv\" )"
      ],
      "execution_count": 2,
      "outputs": []
    },
    {
      "cell_type": "markdown",
      "metadata": {
        "id": "Ff-2ndkC4CP2",
        "colab_type": "text"
      },
      "source": [
        "###Loading Dataset"
      ]
    },
    {
      "cell_type": "code",
      "metadata": {
        "id": "EYuoVUHv4Fbj",
        "colab_type": "code",
        "colab": {
          "base_uri": "https://localhost:8080/",
          "height": 204
        },
        "outputId": "65c19edf-ebc4-4f30-c607-6be774c57363"
      },
      "source": [
        "train_data.head()"
      ],
      "execution_count": 3,
      "outputs": [
        {
          "output_type": "execute_result",
          "data": {
            "text/html": [
              "<div>\n",
              "<style scoped>\n",
              "    .dataframe tbody tr th:only-of-type {\n",
              "        vertical-align: middle;\n",
              "    }\n",
              "\n",
              "    .dataframe tbody tr th {\n",
              "        vertical-align: top;\n",
              "    }\n",
              "\n",
              "    .dataframe thead th {\n",
              "        text-align: right;\n",
              "    }\n",
              "</style>\n",
              "<table border=\"1\" class=\"dataframe\">\n",
              "  <thead>\n",
              "    <tr style=\"text-align: right;\">\n",
              "      <th></th>\n",
              "      <th>VWTI</th>\n",
              "      <th>SWTI</th>\n",
              "      <th>CWTI</th>\n",
              "      <th>EI</th>\n",
              "      <th>Class</th>\n",
              "    </tr>\n",
              "  </thead>\n",
              "  <tbody>\n",
              "    <tr>\n",
              "      <th>0</th>\n",
              "      <td>2.2634</td>\n",
              "      <td>-4.4862</td>\n",
              "      <td>3.6558</td>\n",
              "      <td>-0.612510</td>\n",
              "      <td>0</td>\n",
              "    </tr>\n",
              "    <tr>\n",
              "      <th>1</th>\n",
              "      <td>3.2718</td>\n",
              "      <td>1.7837</td>\n",
              "      <td>2.1161</td>\n",
              "      <td>0.613340</td>\n",
              "      <td>0</td>\n",
              "    </tr>\n",
              "    <tr>\n",
              "      <th>2</th>\n",
              "      <td>-3.9411</td>\n",
              "      <td>-12.8792</td>\n",
              "      <td>13.0597</td>\n",
              "      <td>-3.312500</td>\n",
              "      <td>1</td>\n",
              "    </tr>\n",
              "    <tr>\n",
              "      <th>3</th>\n",
              "      <td>0.5195</td>\n",
              "      <td>-3.2633</td>\n",
              "      <td>3.0895</td>\n",
              "      <td>-0.984900</td>\n",
              "      <td>0</td>\n",
              "    </tr>\n",
              "    <tr>\n",
              "      <th>4</th>\n",
              "      <td>2.5698</td>\n",
              "      <td>-4.4076</td>\n",
              "      <td>5.9856</td>\n",
              "      <td>0.078002</td>\n",
              "      <td>0</td>\n",
              "    </tr>\n",
              "  </tbody>\n",
              "</table>\n",
              "</div>"
            ],
            "text/plain": [
              "     VWTI     SWTI     CWTI        EI  Class\n",
              "0  2.2634  -4.4862   3.6558 -0.612510      0\n",
              "1  3.2718   1.7837   2.1161  0.613340      0\n",
              "2 -3.9411 -12.8792  13.0597 -3.312500      1\n",
              "3  0.5195  -3.2633   3.0895 -0.984900      0\n",
              "4  2.5698  -4.4076   5.9856  0.078002      0"
            ]
          },
          "metadata": {
            "tags": []
          },
          "execution_count": 3
        }
      ]
    },
    {
      "cell_type": "code",
      "metadata": {
        "id": "Cv3VQVbw4J9o",
        "colab_type": "code",
        "colab": {
          "base_uri": "https://localhost:8080/",
          "height": 221
        },
        "outputId": "05be6657-306f-40f5-b319-468804cdb51c"
      },
      "source": [
        "train_data.info()"
      ],
      "execution_count": 4,
      "outputs": [
        {
          "output_type": "stream",
          "text": [
            "<class 'pandas.core.frame.DataFrame'>\n",
            "RangeIndex: 1096 entries, 0 to 1095\n",
            "Data columns (total 5 columns):\n",
            " #   Column  Non-Null Count  Dtype  \n",
            "---  ------  --------------  -----  \n",
            " 0   VWTI    1096 non-null   float64\n",
            " 1   SWTI    1096 non-null   float64\n",
            " 2   CWTI    1096 non-null   float64\n",
            " 3   EI      1096 non-null   float64\n",
            " 4   Class   1096 non-null   int64  \n",
            "dtypes: float64(4), int64(1)\n",
            "memory usage: 42.9 KB\n"
          ],
          "name": "stdout"
        }
      ]
    },
    {
      "cell_type": "code",
      "metadata": {
        "id": "kX9t1V6a4VxG",
        "colab_type": "code",
        "colab": {
          "base_uri": "https://localhost:8080/",
          "height": 297
        },
        "outputId": "648f40e2-28d4-480f-d3c4-615e0d80c6ea"
      },
      "source": [
        "train_data.describe()"
      ],
      "execution_count": 5,
      "outputs": [
        {
          "output_type": "execute_result",
          "data": {
            "text/html": [
              "<div>\n",
              "<style scoped>\n",
              "    .dataframe tbody tr th:only-of-type {\n",
              "        vertical-align: middle;\n",
              "    }\n",
              "\n",
              "    .dataframe tbody tr th {\n",
              "        vertical-align: top;\n",
              "    }\n",
              "\n",
              "    .dataframe thead th {\n",
              "        text-align: right;\n",
              "    }\n",
              "</style>\n",
              "<table border=\"1\" class=\"dataframe\">\n",
              "  <thead>\n",
              "    <tr style=\"text-align: right;\">\n",
              "      <th></th>\n",
              "      <th>VWTI</th>\n",
              "      <th>SWTI</th>\n",
              "      <th>CWTI</th>\n",
              "      <th>EI</th>\n",
              "      <th>Class</th>\n",
              "    </tr>\n",
              "  </thead>\n",
              "  <tbody>\n",
              "    <tr>\n",
              "      <th>count</th>\n",
              "      <td>1096.000000</td>\n",
              "      <td>1096.000000</td>\n",
              "      <td>1096.000000</td>\n",
              "      <td>1096.000000</td>\n",
              "      <td>1096.000000</td>\n",
              "    </tr>\n",
              "    <tr>\n",
              "      <th>mean</th>\n",
              "      <td>0.448500</td>\n",
              "      <td>1.780643</td>\n",
              "      <td>1.493533</td>\n",
              "      <td>-1.157454</td>\n",
              "      <td>0.445255</td>\n",
              "    </tr>\n",
              "    <tr>\n",
              "      <th>std</th>\n",
              "      <td>2.852623</td>\n",
              "      <td>5.922621</td>\n",
              "      <td>4.375655</td>\n",
              "      <td>2.084983</td>\n",
              "      <td>0.497221</td>\n",
              "    </tr>\n",
              "    <tr>\n",
              "      <th>min</th>\n",
              "      <td>-7.036400</td>\n",
              "      <td>-13.773100</td>\n",
              "      <td>-5.286100</td>\n",
              "      <td>-8.548200</td>\n",
              "      <td>0.000000</td>\n",
              "    </tr>\n",
              "    <tr>\n",
              "      <th>25%</th>\n",
              "      <td>-1.790850</td>\n",
              "      <td>-2.125200</td>\n",
              "      <td>-1.574975</td>\n",
              "      <td>-2.246975</td>\n",
              "      <td>0.000000</td>\n",
              "    </tr>\n",
              "    <tr>\n",
              "      <th>50%</th>\n",
              "      <td>0.540430</td>\n",
              "      <td>2.205850</td>\n",
              "      <td>0.671900</td>\n",
              "      <td>-0.569190</td>\n",
              "      <td>0.000000</td>\n",
              "    </tr>\n",
              "    <tr>\n",
              "      <th>75%</th>\n",
              "      <td>2.835350</td>\n",
              "      <td>6.793925</td>\n",
              "      <td>3.574450</td>\n",
              "      <td>0.399980</td>\n",
              "      <td>1.000000</td>\n",
              "    </tr>\n",
              "    <tr>\n",
              "      <th>max</th>\n",
              "      <td>6.563300</td>\n",
              "      <td>12.730200</td>\n",
              "      <td>17.927400</td>\n",
              "      <td>2.449500</td>\n",
              "      <td>1.000000</td>\n",
              "    </tr>\n",
              "  </tbody>\n",
              "</table>\n",
              "</div>"
            ],
            "text/plain": [
              "              VWTI         SWTI         CWTI           EI        Class\n",
              "count  1096.000000  1096.000000  1096.000000  1096.000000  1096.000000\n",
              "mean      0.448500     1.780643     1.493533    -1.157454     0.445255\n",
              "std       2.852623     5.922621     4.375655     2.084983     0.497221\n",
              "min      -7.036400   -13.773100    -5.286100    -8.548200     0.000000\n",
              "25%      -1.790850    -2.125200    -1.574975    -2.246975     0.000000\n",
              "50%       0.540430     2.205850     0.671900    -0.569190     0.000000\n",
              "75%       2.835350     6.793925     3.574450     0.399980     1.000000\n",
              "max       6.563300    12.730200    17.927400     2.449500     1.000000"
            ]
          },
          "metadata": {
            "tags": []
          },
          "execution_count": 5
        }
      ]
    },
    {
      "cell_type": "markdown",
      "metadata": {
        "id": "VymhDVTfuyuX",
        "colab_type": "text"
      },
      "source": [
        "### Data Preprocessing"
      ]
    },
    {
      "cell_type": "code",
      "metadata": {
        "id": "xnAzs1WliW39",
        "colab_type": "code",
        "colab": {
          "base_uri": "https://localhost:8080/",
          "height": 34
        },
        "outputId": "dabf5c55-5b8d-44c0-8630-95f775e9acaf"
      },
      "source": [
        "X = train_data.drop(['Class'], axis=1)\n",
        "y = train_data.Class\n",
        "\n",
        "from sklearn.preprocessing import StandardScaler\n",
        "scaler = StandardScaler()\n",
        "scaler.fit(X)"
      ],
      "execution_count": 6,
      "outputs": [
        {
          "output_type": "execute_result",
          "data": {
            "text/plain": [
              "StandardScaler(copy=True, with_mean=True, with_std=True)"
            ]
          },
          "metadata": {
            "tags": []
          },
          "execution_count": 6
        }
      ]
    },
    {
      "cell_type": "code",
      "metadata": {
        "id": "xmno8SsXrqRN",
        "colab_type": "code",
        "colab": {}
      },
      "source": [
        "train_data_scaled = scaler.transform(X)"
      ],
      "execution_count": 7,
      "outputs": []
    },
    {
      "cell_type": "code",
      "metadata": {
        "id": "URabFbiQ48wX",
        "colab_type": "code",
        "colab": {
          "base_uri": "https://localhost:8080/",
          "height": 297
        },
        "outputId": "f9595f3e-5db4-4f8b-ae33-262a924dc320"
      },
      "source": [
        "#Convert to dataframe\n",
        "train_data_df = pd.DataFrame(data = X, index= X.index, columns= X.columns)\n",
        "train_data_df.describe()"
      ],
      "execution_count": 8,
      "outputs": [
        {
          "output_type": "execute_result",
          "data": {
            "text/html": [
              "<div>\n",
              "<style scoped>\n",
              "    .dataframe tbody tr th:only-of-type {\n",
              "        vertical-align: middle;\n",
              "    }\n",
              "\n",
              "    .dataframe tbody tr th {\n",
              "        vertical-align: top;\n",
              "    }\n",
              "\n",
              "    .dataframe thead th {\n",
              "        text-align: right;\n",
              "    }\n",
              "</style>\n",
              "<table border=\"1\" class=\"dataframe\">\n",
              "  <thead>\n",
              "    <tr style=\"text-align: right;\">\n",
              "      <th></th>\n",
              "      <th>VWTI</th>\n",
              "      <th>SWTI</th>\n",
              "      <th>CWTI</th>\n",
              "      <th>EI</th>\n",
              "    </tr>\n",
              "  </thead>\n",
              "  <tbody>\n",
              "    <tr>\n",
              "      <th>count</th>\n",
              "      <td>1096.000000</td>\n",
              "      <td>1096.000000</td>\n",
              "      <td>1096.000000</td>\n",
              "      <td>1096.000000</td>\n",
              "    </tr>\n",
              "    <tr>\n",
              "      <th>mean</th>\n",
              "      <td>0.448500</td>\n",
              "      <td>1.780643</td>\n",
              "      <td>1.493533</td>\n",
              "      <td>-1.157454</td>\n",
              "    </tr>\n",
              "    <tr>\n",
              "      <th>std</th>\n",
              "      <td>2.852623</td>\n",
              "      <td>5.922621</td>\n",
              "      <td>4.375655</td>\n",
              "      <td>2.084983</td>\n",
              "    </tr>\n",
              "    <tr>\n",
              "      <th>min</th>\n",
              "      <td>-7.036400</td>\n",
              "      <td>-13.773100</td>\n",
              "      <td>-5.286100</td>\n",
              "      <td>-8.548200</td>\n",
              "    </tr>\n",
              "    <tr>\n",
              "      <th>25%</th>\n",
              "      <td>-1.790850</td>\n",
              "      <td>-2.125200</td>\n",
              "      <td>-1.574975</td>\n",
              "      <td>-2.246975</td>\n",
              "    </tr>\n",
              "    <tr>\n",
              "      <th>50%</th>\n",
              "      <td>0.540430</td>\n",
              "      <td>2.205850</td>\n",
              "      <td>0.671900</td>\n",
              "      <td>-0.569190</td>\n",
              "    </tr>\n",
              "    <tr>\n",
              "      <th>75%</th>\n",
              "      <td>2.835350</td>\n",
              "      <td>6.793925</td>\n",
              "      <td>3.574450</td>\n",
              "      <td>0.399980</td>\n",
              "    </tr>\n",
              "    <tr>\n",
              "      <th>max</th>\n",
              "      <td>6.563300</td>\n",
              "      <td>12.730200</td>\n",
              "      <td>17.927400</td>\n",
              "      <td>2.449500</td>\n",
              "    </tr>\n",
              "  </tbody>\n",
              "</table>\n",
              "</div>"
            ],
            "text/plain": [
              "              VWTI         SWTI         CWTI           EI\n",
              "count  1096.000000  1096.000000  1096.000000  1096.000000\n",
              "mean      0.448500     1.780643     1.493533    -1.157454\n",
              "std       2.852623     5.922621     4.375655     2.084983\n",
              "min      -7.036400   -13.773100    -5.286100    -8.548200\n",
              "25%      -1.790850    -2.125200    -1.574975    -2.246975\n",
              "50%       0.540430     2.205850     0.671900    -0.569190\n",
              "75%       2.835350     6.793925     3.574450     0.399980\n",
              "max       6.563300    12.730200    17.927400     2.449500"
            ]
          },
          "metadata": {
            "tags": []
          },
          "execution_count": 8
        }
      ]
    },
    {
      "cell_type": "code",
      "metadata": {
        "id": "vhy-oo7GiSDT",
        "colab_type": "code",
        "colab": {}
      },
      "source": [
        "from sklearn.model_selection import train_test_split \n",
        "\n",
        "# Assign variables to capture train test split output\n",
        "X_train, X_test, y_train, y_test = train_test_split(X, y, test_size=0.2, \n",
        "                                                          random_state=42)"
      ],
      "execution_count": 10,
      "outputs": []
    },
    {
      "cell_type": "code",
      "metadata": {
        "id": "hxaFXkjl6hOg",
        "colab_type": "code",
        "colab": {
          "base_uri": "https://localhost:8080/",
          "height": 34
        },
        "outputId": "54bce116-580a-40a0-ca44-ab475973cffa"
      },
      "source": [
        "X_train.shape"
      ],
      "execution_count": 11,
      "outputs": [
        {
          "output_type": "execute_result",
          "data": {
            "text/plain": [
              "(876, 4)"
            ]
          },
          "metadata": {
            "tags": []
          },
          "execution_count": 11
        }
      ]
    },
    {
      "cell_type": "markdown",
      "metadata": {
        "id": "WLrhxAU16rlp",
        "colab_type": "text"
      },
      "source": [
        "###Build the Model"
      ]
    },
    {
      "cell_type": "code",
      "metadata": {
        "id": "qkwhI9N9iYYx",
        "colab_type": "code",
        "colab": {}
      },
      "source": [
        "from tensorflow.keras import Sequential\n",
        "from tensorflow.keras.layers import Dense\n",
        "import tensorflow"
      ],
      "execution_count": 14,
      "outputs": []
    },
    {
      "cell_type": "code",
      "metadata": {
        "id": "unmgMY5Np_6K",
        "colab_type": "code",
        "colab": {}
      },
      "source": [
        "# Building the model\n",
        "model = Sequential()\n",
        "model.add(Dense(32, activation='relu', input_shape=(X_train.shape[1],)))   \n",
        "model.add(Dense(16, activation='relu'))\n",
        "model.add(Dense(8, activation='relu'))\n",
        "model.add(Dense(1, activation='sigmoid'))"
      ],
      "execution_count": 15,
      "outputs": []
    },
    {
      "cell_type": "code",
      "metadata": {
        "id": "1aRYIVYGm508",
        "colab_type": "code",
        "colab": {}
      },
      "source": [
        "from tensorflow.keras.optimizers import RMSprop\n",
        "optimizer = RMSprop(0.001)  # Here, we have set our learning rate as 0.001\n",
        "model.compile(loss='binary_crossentropy', \n",
        "              optimizer= optimizer , \n",
        "              metrics=['accuracy'])"
      ],
      "execution_count": 16,
      "outputs": []
    },
    {
      "cell_type": "code",
      "metadata": {
        "id": "sfOXhpoFq6wK",
        "colab_type": "code",
        "colab": {
          "base_uri": "https://localhost:8080/",
          "height": 289
        },
        "outputId": "0c54e833-8fb2-48d9-9bb1-1e44e2c4b9e3"
      },
      "source": [
        "# printing the summary of the model\n",
        "model.summary()"
      ],
      "execution_count": 17,
      "outputs": [
        {
          "output_type": "stream",
          "text": [
            "Model: \"sequential_1\"\n",
            "_________________________________________________________________\n",
            "Layer (type)                 Output Shape              Param #   \n",
            "=================================================================\n",
            "dense_4 (Dense)              (None, 32)                160       \n",
            "_________________________________________________________________\n",
            "dense_5 (Dense)              (None, 16)                528       \n",
            "_________________________________________________________________\n",
            "dense_6 (Dense)              (None, 8)                 136       \n",
            "_________________________________________________________________\n",
            "dense_7 (Dense)              (None, 1)                 9         \n",
            "=================================================================\n",
            "Total params: 833\n",
            "Trainable params: 833\n",
            "Non-trainable params: 0\n",
            "_________________________________________________________________\n"
          ],
          "name": "stdout"
        }
      ]
    },
    {
      "cell_type": "code",
      "metadata": {
        "id": "qyzRoRNlssXs",
        "colab_type": "code",
        "colab": {
          "base_uri": "https://localhost:8080/",
          "height": 533
        },
        "outputId": "71cb9a1b-fd82-4a13-b9c4-b67aadae7529"
      },
      "source": [
        "from tensorflow.keras.utils import plot_model\n",
        "plot_model(model,show_shapes=True, show_layer_names=True)"
      ],
      "execution_count": 18,
      "outputs": [
        {
          "output_type": "execute_result",
          "data": {
            "image/png": "[encoded data removed]",
            "text/plain": [
              "<IPython.core.display.Image object>"
            ]
          },
          "metadata": {
            "tags": []
          },
          "execution_count": 18
        }
      ]
    },
    {
      "cell_type": "code",
      "metadata": {
        "id": "EHS4lfNOq_m0",
        "colab_type": "code",
        "colab": {
          "base_uri": "https://localhost:8080/",
          "height": 1000
        },
        "outputId": "d3b8b175-50bc-41e3-b1bf-353dbd4ba11d"
      },
      "source": [
        "history = model.fit(X_train, \n",
        "                    y_train, \n",
        "                    validation_split=0.2, \n",
        "                    epochs=50, \n",
        "                    verbose=1)"
      ],
      "execution_count": 19,
      "outputs": [
        {
          "output_type": "stream",
          "text": [
            "Epoch 1/50\n",
            "22/22 [==============================] - 0s 11ms/step - loss: 0.5817 - accuracy: 0.6929 - val_loss: 0.4908 - val_accuracy: 0.8295\n",
            "Epoch 2/50\n",
            "22/22 [==============================] - 0s 3ms/step - loss: 0.4245 - accuracy: 0.9314 - val_loss: 0.3550 - val_accuracy: 0.9830\n",
            "Epoch 3/50\n",
            "22/22 [==============================] - 0s 2ms/step - loss: 0.2941 - accuracy: 0.9900 - val_loss: 0.2365 - val_accuracy: 0.9886\n",
            "Epoch 4/50\n",
            "22/22 [==============================] - 0s 2ms/step - loss: 0.1975 - accuracy: 0.9914 - val_loss: 0.1553 - val_accuracy: 0.9943\n",
            "Epoch 5/50\n",
            "22/22 [==============================] - 0s 2ms/step - loss: 0.1263 - accuracy: 0.9986 - val_loss: 0.0972 - val_accuracy: 1.0000\n",
            "Epoch 6/50\n",
            "22/22 [==============================] - 0s 3ms/step - loss: 0.0767 - accuracy: 0.9986 - val_loss: 0.0575 - val_accuracy: 1.0000\n",
            "Epoch 7/50\n",
            "22/22 [==============================] - 0s 3ms/step - loss: 0.0456 - accuracy: 1.0000 - val_loss: 0.0344 - val_accuracy: 1.0000\n",
            "Epoch 8/50\n",
            "22/22 [==============================] - 0s 2ms/step - loss: 0.0271 - accuracy: 1.0000 - val_loss: 0.0210 - val_accuracy: 1.0000\n",
            "Epoch 9/50\n",
            "22/22 [==============================] - 0s 3ms/step - loss: 0.0164 - accuracy: 1.0000 - val_loss: 0.0133 - val_accuracy: 1.0000\n",
            "Epoch 10/50\n",
            "22/22 [==============================] - 0s 2ms/step - loss: 0.0106 - accuracy: 1.0000 - val_loss: 0.0084 - val_accuracy: 1.0000\n",
            "Epoch 11/50\n",
            "22/22 [==============================] - 0s 3ms/step - loss: 0.0069 - accuracy: 1.0000 - val_loss: 0.0055 - val_accuracy: 1.0000\n",
            "Epoch 12/50\n",
            "22/22 [==============================] - 0s 2ms/step - loss: 0.0046 - accuracy: 1.0000 - val_loss: 0.0035 - val_accuracy: 1.0000\n",
            "Epoch 13/50\n",
            "22/22 [==============================] - 0s 2ms/step - loss: 0.0031 - accuracy: 1.0000 - val_loss: 0.0024 - val_accuracy: 1.0000\n",
            "Epoch 14/50\n",
            "22/22 [==============================] - 0s 2ms/step - loss: 0.0021 - accuracy: 1.0000 - val_loss: 0.0016 - val_accuracy: 1.0000\n",
            "Epoch 15/50\n",
            "22/22 [==============================] - 0s 2ms/step - loss: 0.0017 - accuracy: 1.0000 - val_loss: 0.0011 - val_accuracy: 1.0000\n",
            "Epoch 16/50\n",
            "22/22 [==============================] - 0s 2ms/step - loss: 0.0013 - accuracy: 1.0000 - val_loss: 8.9957e-04 - val_accuracy: 1.0000\n",
            "Epoch 17/50\n",
            "22/22 [==============================] - 0s 3ms/step - loss: 9.5978e-04 - accuracy: 1.0000 - val_loss: 6.8294e-04 - val_accuracy: 1.0000\n",
            "Epoch 18/50\n",
            "22/22 [==============================] - 0s 3ms/step - loss: 7.5491e-04 - accuracy: 1.0000 - val_loss: 4.8267e-04 - val_accuracy: 1.0000\n",
            "Epoch 19/50\n",
            "22/22 [==============================] - 0s 3ms/step - loss: 6.3802e-04 - accuracy: 1.0000 - val_loss: 3.5452e-04 - val_accuracy: 1.0000\n",
            "Epoch 20/50\n",
            "22/22 [==============================] - 0s 3ms/step - loss: 4.3234e-04 - accuracy: 1.0000 - val_loss: 2.6312e-04 - val_accuracy: 1.0000\n",
            "Epoch 21/50\n",
            "22/22 [==============================] - 0s 2ms/step - loss: 3.3738e-04 - accuracy: 1.0000 - val_loss: 1.8761e-04 - val_accuracy: 1.0000\n",
            "Epoch 22/50\n",
            "22/22 [==============================] - 0s 3ms/step - loss: 2.3619e-04 - accuracy: 1.0000 - val_loss: 1.2571e-04 - val_accuracy: 1.0000\n",
            "Epoch 23/50\n",
            "22/22 [==============================] - 0s 3ms/step - loss: 1.5770e-04 - accuracy: 1.0000 - val_loss: 7.9208e-05 - val_accuracy: 1.0000\n",
            "Epoch 24/50\n",
            "22/22 [==============================] - 0s 4ms/step - loss: 1.2541e-04 - accuracy: 1.0000 - val_loss: 5.6548e-05 - val_accuracy: 1.0000\n",
            "Epoch 25/50\n",
            "22/22 [==============================] - 0s 3ms/step - loss: 9.0257e-05 - accuracy: 1.0000 - val_loss: 4.4996e-05 - val_accuracy: 1.0000\n",
            "Epoch 26/50\n",
            "22/22 [==============================] - 0s 3ms/step - loss: 6.6782e-05 - accuracy: 1.0000 - val_loss: 2.9141e-05 - val_accuracy: 1.0000\n",
            "Epoch 27/50\n",
            "22/22 [==============================] - 0s 3ms/step - loss: 4.9064e-05 - accuracy: 1.0000 - val_loss: 2.2407e-05 - val_accuracy: 1.0000\n",
            "Epoch 28/50\n",
            "22/22 [==============================] - 0s 3ms/step - loss: 3.6339e-05 - accuracy: 1.0000 - val_loss: 1.4405e-05 - val_accuracy: 1.0000\n",
            "Epoch 29/50\n",
            "22/22 [==============================] - 0s 3ms/step - loss: 3.1276e-05 - accuracy: 1.0000 - val_loss: 1.2663e-05 - val_accuracy: 1.0000\n",
            "Epoch 30/50\n",
            "22/22 [==============================] - 0s 3ms/step - loss: 2.1213e-05 - accuracy: 1.0000 - val_loss: 7.2136e-06 - val_accuracy: 1.0000\n",
            "Epoch 31/50\n",
            "22/22 [==============================] - 0s 3ms/step - loss: 1.9095e-05 - accuracy: 1.0000 - val_loss: 5.6198e-06 - val_accuracy: 1.0000\n",
            "Epoch 32/50\n",
            "22/22 [==============================] - 0s 3ms/step - loss: 1.1622e-05 - accuracy: 1.0000 - val_loss: 3.6276e-06 - val_accuracy: 1.0000\n",
            "Epoch 33/50\n",
            "22/22 [==============================] - 0s 2ms/step - loss: 9.6282e-06 - accuracy: 1.0000 - val_loss: 2.5172e-06 - val_accuracy: 1.0000\n",
            "Epoch 34/50\n",
            "22/22 [==============================] - 0s 3ms/step - loss: 6.3847e-06 - accuracy: 1.0000 - val_loss: 2.5498e-06 - val_accuracy: 1.0000\n",
            "Epoch 35/50\n",
            "22/22 [==============================] - 0s 3ms/step - loss: 5.1699e-06 - accuracy: 1.0000 - val_loss: 1.2347e-06 - val_accuracy: 1.0000\n",
            "Epoch 36/50\n",
            "22/22 [==============================] - 0s 2ms/step - loss: 3.4381e-06 - accuracy: 1.0000 - val_loss: 8.6502e-07 - val_accuracy: 1.0000\n",
            "Epoch 37/50\n",
            "22/22 [==============================] - 0s 2ms/step - loss: 2.5402e-06 - accuracy: 1.0000 - val_loss: 5.7948e-07 - val_accuracy: 1.0000\n",
            "Epoch 38/50\n",
            "22/22 [==============================] - 0s 3ms/step - loss: 1.7509e-06 - accuracy: 1.0000 - val_loss: 4.0205e-07 - val_accuracy: 1.0000\n",
            "Epoch 39/50\n",
            "22/22 [==============================] - 0s 3ms/step - loss: 1.1558e-06 - accuracy: 1.0000 - val_loss: 2.3026e-07 - val_accuracy: 1.0000\n",
            "Epoch 40/50\n",
            "22/22 [==============================] - 0s 2ms/step - loss: 7.2043e-07 - accuracy: 1.0000 - val_loss: 1.8975e-07 - val_accuracy: 1.0000\n",
            "Epoch 41/50\n",
            "22/22 [==============================] - 0s 2ms/step - loss: 5.4486e-07 - accuracy: 1.0000 - val_loss: 9.7762e-08 - val_accuracy: 1.0000\n",
            "Epoch 42/50\n",
            "22/22 [==============================] - 0s 2ms/step - loss: 3.9018e-07 - accuracy: 1.0000 - val_loss: 6.3054e-08 - val_accuracy: 1.0000\n",
            "Epoch 43/50\n",
            "22/22 [==============================] - 0s 2ms/step - loss: 2.4994e-07 - accuracy: 1.0000 - val_loss: 6.1063e-08 - val_accuracy: 1.0000\n",
            "Epoch 44/50\n",
            "22/22 [==============================] - 0s 2ms/step - loss: 1.8033e-07 - accuracy: 1.0000 - val_loss: 3.3723e-08 - val_accuracy: 1.0000\n",
            "Epoch 45/50\n",
            "22/22 [==============================] - 0s 2ms/step - loss: 1.2674e-07 - accuracy: 1.0000 - val_loss: 2.1796e-08 - val_accuracy: 1.0000\n",
            "Epoch 46/50\n",
            "22/22 [==============================] - 0s 3ms/step - loss: 1.0690e-07 - accuracy: 1.0000 - val_loss: 1.7962e-08 - val_accuracy: 1.0000\n",
            "Epoch 47/50\n",
            "22/22 [==============================] - 0s 3ms/step - loss: 6.2185e-08 - accuracy: 1.0000 - val_loss: 1.2522e-08 - val_accuracy: 1.0000\n",
            "Epoch 48/50\n",
            "22/22 [==============================] - 0s 3ms/step - loss: 4.9354e-08 - accuracy: 1.0000 - val_loss: 1.2234e-08 - val_accuracy: 1.0000\n",
            "Epoch 49/50\n",
            "22/22 [==============================] - 0s 2ms/step - loss: 3.8478e-08 - accuracy: 1.0000 - val_loss: 6.6646e-09 - val_accuracy: 1.0000\n",
            "Epoch 50/50\n",
            "22/22 [==============================] - 0s 3ms/step - loss: 2.6135e-08 - accuracy: 1.0000 - val_loss: 4.9788e-09 - val_accuracy: 1.0000\n"
          ],
          "name": "stdout"
        }
      ]
    },
    {
      "cell_type": "code",
      "metadata": {
        "id": "_mZXshJkrKLe",
        "colab_type": "code",
        "colab": {
          "base_uri": "https://localhost:8080/",
          "height": 51
        },
        "outputId": "3fb84e5f-fb3d-4286-8034-9f1ac8e8882e"
      },
      "source": [
        "model.evaluate(X_test, y_test)"
      ],
      "execution_count": 20,
      "outputs": [
        {
          "output_type": "stream",
          "text": [
            "7/7 [==============================] - 0s 2ms/step - loss: 5.6435e-08 - accuracy: 1.0000\n"
          ],
          "name": "stdout"
        },
        {
          "output_type": "execute_result",
          "data": {
            "text/plain": [
              "[5.643484612960492e-08, 1.0]"
            ]
          },
          "metadata": {
            "tags": []
          },
          "execution_count": 20
        }
      ]
    },
    {
      "cell_type": "code",
      "metadata": {
        "id": "g4kK4Qwrhlsm",
        "colab_type": "code",
        "colab": {}
      },
      "source": [
        "test_data = pd.read_csv('https://raw.githubusercontent.com/dphi-official/Datasets/master/bank_note_data/testing_set_label.csv')"
      ],
      "execution_count": 21,
      "outputs": []
    },
    {
      "cell_type": "code",
      "metadata": {
        "id": "Rhp-uEVi70vN",
        "colab_type": "code",
        "colab": {}
      },
      "source": [
        "from sklearn.preprocessing import StandardScaler\n",
        "\n",
        "scaler = StandardScaler()\n",
        "scaler.fit(test_data)\n",
        "\n",
        "#Scale and centre the data\n",
        "\n",
        "test_data_scaled = scaler.transform(test_data)\n",
        "\n",
        "#Create a pandas dataframe\n",
        "\n",
        "test_data_df = pd.DataFrame(data = test_data, \n",
        "                            index= test_data.index, \n",
        "                            columns= test_data.columns)"
      ],
      "execution_count": 23,
      "outputs": []
    },
    {
      "cell_type": "code",
      "metadata": {
        "id": "JD8SPHjPi4sS",
        "colab_type": "code",
        "colab": {}
      },
      "source": [
        "# make a prediction\n",
        "y_pred = model.predict_classes(test_data_df)"
      ],
      "execution_count": 25,
      "outputs": []
    },
    {
      "cell_type": "code",
      "metadata": {
        "id": "4Rqn8qKdjWrH",
        "colab_type": "code",
        "colab": {
          "base_uri": "https://localhost:8080/",
          "height": 17
        },
        "outputId": "927a6faf-9f99-47b2-90ef-b8c060b33c97"
      },
      "source": [
        "res = pd.DataFrame(y_pred) \n",
        "res.index = test_data.index\n",
        "res.columns = [\"prediction\"]\n",
        "\n",
        "# To download the csv file locally\n",
        "from google.colab import files\n",
        "res.to_csv('Bank_Note_Sub.csv')         \n",
        "files.download('Bank_Note_Sub.csv')"
      ],
      "execution_count": 26,
      "outputs": [
        {
          "output_type": "display_data",
          "data": {
            "application/javascript": [
              "\n",
              "    async function download(id, filename, size) {\n",
              "      if (!google.colab.kernel.accessAllowed) {\n",
              "        return;\n",
              "      }\n",
              "      const div = document.createElement('div');\n",
              "      const label = document.createElement('label');\n",
              "      label.textContent = `Downloading \"${filename}\": `;\n",
              "      div.appendChild(label);\n",
              "      const progress = document.createElement('progress');\n",
              "      progress.max = size;\n",
              "      div.appendChild(progress);\n",
              "      document.body.appendChild(div);\n",
              "\n",
              "      const buffers = [];\n",
              "      let downloaded = 0;\n",
              "\n",
              "      const channel = await google.colab.kernel.comms.open(id);\n",
              "      // Send a message to notify the kernel that we're ready.\n",
              "      channel.send({})\n",
              "\n",
              "      for await (const message of channel.messages) {\n",
              "        // Send a message to notify the kernel that we're ready.\n",
              "        channel.send({})\n",
              "        if (message.buffers) {\n",
              "          for (const buffer of message.buffers) {\n",
              "            buffers.push(buffer);\n",
              "            downloaded += buffer.byteLength;\n",
              "            progress.value = downloaded;\n",
              "          }\n",
              "        }\n",
              "      }\n",
              "      const blob = new Blob(buffers, {type: 'application/binary'});\n",
              "      const a = document.createElement('a');\n",
              "      a.href = window.URL.createObjectURL(blob);\n",
              "      a.download = filename;\n",
              "      div.appendChild(a);\n",
              "      a.click();\n",
              "      div.remove();\n",
              "    }\n",
              "  "
            ],
            "text/plain": [
              "<IPython.core.display.Javascript object>"
            ]
          },
          "metadata": {
            "tags": []
          }
        },
        {
          "output_type": "display_data",
          "data": {
            "application/javascript": [
              "download(\"download_326d6a89-b2a1-4d4b-921a-65260d1f6155\", \"Bank_Note_Sub.csv\", 1552)"
            ],
            "text/plain": [
              "<IPython.core.display.Javascript object>"
            ]
          },
          "metadata": {
            "tags": []
          }
        }
      ]
    }
  ]
}