{
  "nbformat": 4,
  "nbformat_minor": 0,
  "metadata": {
    "colab": {
      "name": "Datathon4_Sol.ipynb",
      "provenance": [],
      "authorship_tag": "ABX9TyOAX3Kn+w3J8bjGG+HTBEZu",
      "include_colab_link": true
    },
    "kernelspec": {
      "name": "python3",
      "display_name": "Python 3"
    }
  },
  "cells": [
    {
      "cell_type": "markdown",
      "metadata": {
        "id": "view-in-github",
        "colab_type": "text"
      },
      "source": [
        "<a href=\"https://colab.research.google.com/github/ajitjaison/Datathons/blob/master/Datathon4_Sol.ipynb\" target=\"_parent\"><img src=\"https://colab.research.google.com/assets/colab-badge.svg\" alt=\"Open In Colab\"/></a>"
      ]
    },
    {
      "cell_type": "code",
      "metadata": {
        "id": "2yyXqJAfRMQy",
        "colab_type": "code",
        "colab": {}
      },
      "source": [
        "import numpy as np\n",
        "import pandas as pd\n",
        "import matplotlib.pyplot as plt\n",
        "import seaborn as sns\n",
        "import itertools\n",
        "%matplotlib inline"
      ],
      "execution_count": null,
      "outputs": []
    },
    {
      "cell_type": "code",
      "metadata": {
        "id": "ky3ye-3cRVPg",
        "colab_type": "code",
        "colab": {
          "base_uri": "https://localhost:8080/",
          "height": 238
        },
        "outputId": "0155332b-8c0d-4582-810a-97280d25090a"
      },
      "source": [
        "concrete_data  = pd.read_csv(\"https://raw.githubusercontent.com/dphi-official/Datasets/master/concrete_data/training_set_label.csv\" )\n",
        "concrete_data.head()"
      ],
      "execution_count": null,
      "outputs": [
        {
          "output_type": "execute_result",
          "data": {
            "text/html": [
              "<div>\n",
              "<style scoped>\n",
              "    .dataframe tbody tr th:only-of-type {\n",
              "        vertical-align: middle;\n",
              "    }\n",
              "\n",
              "    .dataframe tbody tr th {\n",
              "        vertical-align: top;\n",
              "    }\n",
              "\n",
              "    .dataframe thead th {\n",
              "        text-align: right;\n",
              "    }\n",
              "</style>\n",
              "<table border=\"1\" class=\"dataframe\">\n",
              "  <thead>\n",
              "    <tr style=\"text-align: right;\">\n",
              "      <th></th>\n",
              "      <th>Cement (component 1)(kg in a m^3 mixture)</th>\n",
              "      <th>Blast Furnace Slag (component 2)(kg in a m^3 mixture)</th>\n",
              "      <th>Fly Ash (component 3)(kg in a m^3 mixture)</th>\n",
              "      <th>Water  (component 4)(kg in a m^3 mixture)</th>\n",
              "      <th>Superplasticizer (component 5)(kg in a m^3 mixture)</th>\n",
              "      <th>Coarse Aggregate  (component 6)(kg in a m^3 mixture)</th>\n",
              "      <th>Fine Aggregate (component 7)(kg in a m^3 mixture)</th>\n",
              "      <th>Age (day)</th>\n",
              "      <th>Concrete compressive strength(MPa, megapascals)</th>\n",
              "    </tr>\n",
              "  </thead>\n",
              "  <tbody>\n",
              "    <tr>\n",
              "      <th>0</th>\n",
              "      <td>298.20</td>\n",
              "      <td>0.0</td>\n",
              "      <td>107.00</td>\n",
              "      <td>209.70</td>\n",
              "      <td>11.10</td>\n",
              "      <td>879.6</td>\n",
              "      <td>744.20</td>\n",
              "      <td>28</td>\n",
              "      <td>31.875165</td>\n",
              "    </tr>\n",
              "    <tr>\n",
              "      <th>1</th>\n",
              "      <td>397.00</td>\n",
              "      <td>0.0</td>\n",
              "      <td>0.00</td>\n",
              "      <td>186.00</td>\n",
              "      <td>0.00</td>\n",
              "      <td>1040.0</td>\n",
              "      <td>734.00</td>\n",
              "      <td>28</td>\n",
              "      <td>36.935229</td>\n",
              "    </tr>\n",
              "    <tr>\n",
              "      <th>2</th>\n",
              "      <td>251.37</td>\n",
              "      <td>0.0</td>\n",
              "      <td>118.27</td>\n",
              "      <td>188.45</td>\n",
              "      <td>6.35</td>\n",
              "      <td>1028.4</td>\n",
              "      <td>757.73</td>\n",
              "      <td>56</td>\n",
              "      <td>36.638755</td>\n",
              "    </tr>\n",
              "    <tr>\n",
              "      <th>3</th>\n",
              "      <td>304.00</td>\n",
              "      <td>140.0</td>\n",
              "      <td>0.00</td>\n",
              "      <td>214.00</td>\n",
              "      <td>6.00</td>\n",
              "      <td>895.0</td>\n",
              "      <td>722.00</td>\n",
              "      <td>28</td>\n",
              "      <td>33.418902</td>\n",
              "    </tr>\n",
              "    <tr>\n",
              "      <th>4</th>\n",
              "      <td>297.00</td>\n",
              "      <td>0.0</td>\n",
              "      <td>0.00</td>\n",
              "      <td>186.00</td>\n",
              "      <td>0.00</td>\n",
              "      <td>1040.0</td>\n",
              "      <td>734.00</td>\n",
              "      <td>7</td>\n",
              "      <td>30.957472</td>\n",
              "    </tr>\n",
              "  </tbody>\n",
              "</table>\n",
              "</div>"
            ],
            "text/plain": [
              "   Cement (component 1)(kg in a m^3 mixture)  ...  Concrete compressive strength(MPa, megapascals) \n",
              "0                                     298.20  ...                                         31.875165\n",
              "1                                     397.00  ...                                         36.935229\n",
              "2                                     251.37  ...                                         36.638755\n",
              "3                                     304.00  ...                                         33.418902\n",
              "4                                     297.00  ...                                         30.957472\n",
              "\n",
              "[5 rows x 9 columns]"
            ]
          },
          "metadata": {
            "tags": []
          },
          "execution_count": 45
        }
      ]
    },
    {
      "cell_type": "code",
      "metadata": {
        "id": "9SmdZOzvTCnP",
        "colab_type": "code",
        "colab": {
          "base_uri": "https://localhost:8080/",
          "height": 204
        },
        "outputId": "d09e83b2-c092-46b1-91fe-b66d8fea2dfa"
      },
      "source": [
        "data = concrete_data.rename(columns={'Cement (component 1)(kg in a m^3 mixture)':\"cement\",\n",
        "       'Blast Furnace Slag (component 2)(kg in a m^3 mixture)':\"furnace_slag\",\n",
        "       'Fly Ash (component 3)(kg in a m^3 mixture)':\"fly_ash\",\n",
        "       'Water  (component 4)(kg in a m^3 mixture)':\"water\",\n",
        "       'Superplasticizer (component 5)(kg in a m^3 mixture)':\"super_plasticizer\",\n",
        "       'Coarse Aggregate  (component 6)(kg in a m^3 mixture)':\"coarse_agg\",\n",
        "       'Fine Aggregate (component 7)(kg in a m^3 mixture)':\"fine_agg\", 'Age (day)':\"age\",\n",
        "       'Concrete compressive strength(MPa, megapascals) ':\"compressive_strength\"})\n",
        "data.head()"
      ],
      "execution_count": null,
      "outputs": [
        {
          "output_type": "execute_result",
          "data": {
            "text/html": [
              "<div>\n",
              "<style scoped>\n",
              "    .dataframe tbody tr th:only-of-type {\n",
              "        vertical-align: middle;\n",
              "    }\n",
              "\n",
              "    .dataframe tbody tr th {\n",
              "        vertical-align: top;\n",
              "    }\n",
              "\n",
              "    .dataframe thead th {\n",
              "        text-align: right;\n",
              "    }\n",
              "</style>\n",
              "<table border=\"1\" class=\"dataframe\">\n",
              "  <thead>\n",
              "    <tr style=\"text-align: right;\">\n",
              "      <th></th>\n",
              "      <th>cement</th>\n",
              "      <th>furnace_slag</th>\n",
              "      <th>fly_ash</th>\n",
              "      <th>water</th>\n",
              "      <th>super_plasticizer</th>\n",
              "      <th>coarse_agg</th>\n",
              "      <th>fine_agg</th>\n",
              "      <th>age</th>\n",
              "      <th>compressive_strength</th>\n",
              "    </tr>\n",
              "  </thead>\n",
              "  <tbody>\n",
              "    <tr>\n",
              "      <th>0</th>\n",
              "      <td>298.20</td>\n",
              "      <td>0.0</td>\n",
              "      <td>107.00</td>\n",
              "      <td>209.70</td>\n",
              "      <td>11.10</td>\n",
              "      <td>879.6</td>\n",
              "      <td>744.20</td>\n",
              "      <td>28</td>\n",
              "      <td>31.875165</td>\n",
              "    </tr>\n",
              "    <tr>\n",
              "      <th>1</th>\n",
              "      <td>397.00</td>\n",
              "      <td>0.0</td>\n",
              "      <td>0.00</td>\n",
              "      <td>186.00</td>\n",
              "      <td>0.00</td>\n",
              "      <td>1040.0</td>\n",
              "      <td>734.00</td>\n",
              "      <td>28</td>\n",
              "      <td>36.935229</td>\n",
              "    </tr>\n",
              "    <tr>\n",
              "      <th>2</th>\n",
              "      <td>251.37</td>\n",
              "      <td>0.0</td>\n",
              "      <td>118.27</td>\n",
              "      <td>188.45</td>\n",
              "      <td>6.35</td>\n",
              "      <td>1028.4</td>\n",
              "      <td>757.73</td>\n",
              "      <td>56</td>\n",
              "      <td>36.638755</td>\n",
              "    </tr>\n",
              "    <tr>\n",
              "      <th>3</th>\n",
              "      <td>304.00</td>\n",
              "      <td>140.0</td>\n",
              "      <td>0.00</td>\n",
              "      <td>214.00</td>\n",
              "      <td>6.00</td>\n",
              "      <td>895.0</td>\n",
              "      <td>722.00</td>\n",
              "      <td>28</td>\n",
              "      <td>33.418902</td>\n",
              "    </tr>\n",
              "    <tr>\n",
              "      <th>4</th>\n",
              "      <td>297.00</td>\n",
              "      <td>0.0</td>\n",
              "      <td>0.00</td>\n",
              "      <td>186.00</td>\n",
              "      <td>0.00</td>\n",
              "      <td>1040.0</td>\n",
              "      <td>734.00</td>\n",
              "      <td>7</td>\n",
              "      <td>30.957472</td>\n",
              "    </tr>\n",
              "  </tbody>\n",
              "</table>\n",
              "</div>"
            ],
            "text/plain": [
              "   cement  furnace_slag  fly_ash  ...  fine_agg  age  compressive_strength\n",
              "0  298.20           0.0   107.00  ...    744.20   28             31.875165\n",
              "1  397.00           0.0     0.00  ...    734.00   28             36.935229\n",
              "2  251.37           0.0   118.27  ...    757.73   56             36.638755\n",
              "3  304.00         140.0     0.00  ...    722.00   28             33.418902\n",
              "4  297.00           0.0     0.00  ...    734.00    7             30.957472\n",
              "\n",
              "[5 rows x 9 columns]"
            ]
          },
          "metadata": {
            "tags": []
          },
          "execution_count": 46
        }
      ]
    },
    {
      "cell_type": "code",
      "metadata": {
        "id": "K9BXPoC-Tyt0",
        "colab_type": "code",
        "colab": {
          "base_uri": "https://localhost:8080/",
          "height": 289
        },
        "outputId": "20d0807e-efce-46ce-f52a-488ceb6c496f"
      },
      "source": [
        "data.info()"
      ],
      "execution_count": null,
      "outputs": [
        {
          "output_type": "stream",
          "text": [
            "<class 'pandas.core.frame.DataFrame'>\n",
            "RangeIndex: 772 entries, 0 to 771\n",
            "Data columns (total 9 columns):\n",
            " #   Column                Non-Null Count  Dtype  \n",
            "---  ------                --------------  -----  \n",
            " 0   cement                772 non-null    float64\n",
            " 1   furnace_slag          772 non-null    float64\n",
            " 2   fly_ash               772 non-null    float64\n",
            " 3   water                 772 non-null    float64\n",
            " 4   super_plasticizer     772 non-null    float64\n",
            " 5   coarse_agg            772 non-null    float64\n",
            " 6   fine_agg              772 non-null    float64\n",
            " 7   age                   772 non-null    int64  \n",
            " 8   compressive_strength  772 non-null    float64\n",
            "dtypes: float64(8), int64(1)\n",
            "memory usage: 54.4 KB\n"
          ],
          "name": "stdout"
        }
      ]
    },
    {
      "cell_type": "code",
      "metadata": {
        "id": "uI5hOdxkT2PY",
        "colab_type": "code",
        "colab": {
          "base_uri": "https://localhost:8080/",
          "height": 187
        },
        "outputId": "f48bd5a3-6088-4f3d-e252-75025be60080"
      },
      "source": [
        "print (data.isnull().sum())"
      ],
      "execution_count": null,
      "outputs": [
        {
          "output_type": "stream",
          "text": [
            "cement                  0\n",
            "furnace_slag            0\n",
            "fly_ash                 0\n",
            "water                   0\n",
            "super_plasticizer       0\n",
            "coarse_agg              0\n",
            "fine_agg                0\n",
            "age                     0\n",
            "compressive_strength    0\n",
            "dtype: int64\n"
          ],
          "name": "stdout"
        }
      ]
    },
    {
      "cell_type": "code",
      "metadata": {
        "id": "Q8rAbCP5UCn3",
        "colab_type": "code",
        "colab": {
          "base_uri": "https://localhost:8080/",
          "height": 51
        },
        "outputId": "d10fd89c-f007-4424-f7a4-826bd0312f0c"
      },
      "source": [
        "print(\"Number of rows    :\",data.shape[0])\n",
        "print(\"Number of columns :\",data.shape[1])"
      ],
      "execution_count": null,
      "outputs": [
        {
          "output_type": "stream",
          "text": [
            "Number of rows    : 772\n",
            "Number of columns : 9\n"
          ],
          "name": "stdout"
        }
      ]
    },
    {
      "cell_type": "code",
      "metadata": {
        "id": "c1J9cBZpUlb2",
        "colab_type": "code",
        "colab": {}
      },
      "source": [
        "from sklearn.preprocessing import MaxAbsScaler\n",
        "#scaler = MaxAbsScaler()\n",
        "#data.age = scaler.fit_transform(data.age.values.reshape(-1, 1))\n",
        "data.head()\n",
        "# pure water-cement ratio feature\n",
        "input_features_unscaled_with_wcratio = data.copy()\n",
        "input_features_unscaled_with_wcratio.insert(input_features_unscaled_with_wcratio.shape[-1]-1,'water-cement-ratio', input_features_unscaled_with_wcratio['water']/input_features_unscaled_with_wcratio['cement'])\n",
        "input_features_unscaled_with_wcratio.drop(['water', 'cement'], axis=1, inplace=True)\n",
        "\n",
        "# scale it!\n",
        "scaler = MaxAbsScaler()\n",
        "input_features_unscaled_with_wcratio_scaled = input_features_unscaled_with_wcratio.copy()\n",
        "input_features_unscaled_with_wcratio_sc = scaler.fit_transform(input_features_unscaled_with_wcratio)\n",
        "input_features_unscaled_with_wcratio_scaled.loc[:,:] = input_features_unscaled_with_wcratio_sc\n",
        "\n",
        "# making the scaling function more accessible\n",
        "extract_scaling_function = np.ones((1,input_features_unscaled_with_wcratio.shape[1]))\n",
        "extract_scaling_function = scaler.inverse_transform(extract_scaling_function)\n",
        "\n",
        "new_data = input_features_unscaled_with_wcratio_scaled.copy()\n"
      ],
      "execution_count": null,
      "outputs": []
    },
    {
      "cell_type": "code",
      "metadata": {
        "id": "3nXHfSTkc-1S",
        "colab_type": "code",
        "colab": {
          "base_uri": "https://localhost:8080/",
          "height": 204
        },
        "outputId": "1cdfc05b-dd91-420c-92a3-b90b385e37a7"
      },
      "source": [
        "new_data.head()"
      ],
      "execution_count": null,
      "outputs": [
        {
          "output_type": "execute_result",
          "data": {
            "text/html": [
              "<div>\n",
              "<style scoped>\n",
              "    .dataframe tbody tr th:only-of-type {\n",
              "        vertical-align: middle;\n",
              "    }\n",
              "\n",
              "    .dataframe tbody tr th {\n",
              "        vertical-align: top;\n",
              "    }\n",
              "\n",
              "    .dataframe thead th {\n",
              "        text-align: right;\n",
              "    }\n",
              "</style>\n",
              "<table border=\"1\" class=\"dataframe\">\n",
              "  <thead>\n",
              "    <tr style=\"text-align: right;\">\n",
              "      <th></th>\n",
              "      <th>furnace_slag</th>\n",
              "      <th>fly_ash</th>\n",
              "      <th>super_plasticizer</th>\n",
              "      <th>coarse_agg</th>\n",
              "      <th>fine_agg</th>\n",
              "      <th>age</th>\n",
              "      <th>water-cement-ratio</th>\n",
              "      <th>compressive_strength</th>\n",
              "    </tr>\n",
              "  </thead>\n",
              "  <tbody>\n",
              "    <tr>\n",
              "      <th>0</th>\n",
              "      <td>0.000000</td>\n",
              "      <td>0.534733</td>\n",
              "      <td>0.344720</td>\n",
              "      <td>0.768210</td>\n",
              "      <td>0.749748</td>\n",
              "      <td>0.076712</td>\n",
              "      <td>0.373585</td>\n",
              "      <td>0.385902</td>\n",
              "    </tr>\n",
              "    <tr>\n",
              "      <th>1</th>\n",
              "      <td>0.000000</td>\n",
              "      <td>0.000000</td>\n",
              "      <td>0.000000</td>\n",
              "      <td>0.908297</td>\n",
              "      <td>0.739472</td>\n",
              "      <td>0.076712</td>\n",
              "      <td>0.248898</td>\n",
              "      <td>0.447162</td>\n",
              "    </tr>\n",
              "    <tr>\n",
              "      <th>2</th>\n",
              "      <td>0.000000</td>\n",
              "      <td>0.591054</td>\n",
              "      <td>0.197205</td>\n",
              "      <td>0.898166</td>\n",
              "      <td>0.763379</td>\n",
              "      <td>0.153425</td>\n",
              "      <td>0.398274</td>\n",
              "      <td>0.443573</td>\n",
              "    </tr>\n",
              "    <tr>\n",
              "      <th>3</th>\n",
              "      <td>0.389538</td>\n",
              "      <td>0.000000</td>\n",
              "      <td>0.186335</td>\n",
              "      <td>0.781659</td>\n",
              "      <td>0.727383</td>\n",
              "      <td>0.076712</td>\n",
              "      <td>0.373972</td>\n",
              "      <td>0.404591</td>\n",
              "    </tr>\n",
              "    <tr>\n",
              "      <th>4</th>\n",
              "      <td>0.000000</td>\n",
              "      <td>0.000000</td>\n",
              "      <td>0.000000</td>\n",
              "      <td>0.908297</td>\n",
              "      <td>0.739472</td>\n",
              "      <td>0.019178</td>\n",
              "      <td>0.332702</td>\n",
              "      <td>0.374791</td>\n",
              "    </tr>\n",
              "  </tbody>\n",
              "</table>\n",
              "</div>"
            ],
            "text/plain": [
              "   furnace_slag   fly_ash  ...  water-cement-ratio  compressive_strength\n",
              "0      0.000000  0.534733  ...            0.373585              0.385902\n",
              "1      0.000000  0.000000  ...            0.248898              0.447162\n",
              "2      0.000000  0.591054  ...            0.398274              0.443573\n",
              "3      0.389538  0.000000  ...            0.373972              0.404591\n",
              "4      0.000000  0.000000  ...            0.332702              0.374791\n",
              "\n",
              "[5 rows x 8 columns]"
            ]
          },
          "metadata": {
            "tags": []
          },
          "execution_count": 51
        }
      ]
    },
    {
      "cell_type": "code",
      "metadata": {
        "id": "NoYbTLiirNfq",
        "colab_type": "code",
        "colab": {
          "base_uri": "https://localhost:8080/",
          "height": 419
        },
        "outputId": "e822c4bf-025c-4c05-8a7a-55fb47f1799e"
      },
      "source": [
        "check_data = extract_scaling_function * new_data\n",
        "check_data"
      ],
      "execution_count": null,
      "outputs": [
        {
          "output_type": "execute_result",
          "data": {
            "text/html": [
              "<div>\n",
              "<style scoped>\n",
              "    .dataframe tbody tr th:only-of-type {\n",
              "        vertical-align: middle;\n",
              "    }\n",
              "\n",
              "    .dataframe tbody tr th {\n",
              "        vertical-align: top;\n",
              "    }\n",
              "\n",
              "    .dataframe thead th {\n",
              "        text-align: right;\n",
              "    }\n",
              "</style>\n",
              "<table border=\"1\" class=\"dataframe\">\n",
              "  <thead>\n",
              "    <tr style=\"text-align: right;\">\n",
              "      <th></th>\n",
              "      <th>furnace_slag</th>\n",
              "      <th>fly_ash</th>\n",
              "      <th>super_plasticizer</th>\n",
              "      <th>coarse_agg</th>\n",
              "      <th>fine_agg</th>\n",
              "      <th>age</th>\n",
              "      <th>water-cement-ratio</th>\n",
              "      <th>compressive_strength</th>\n",
              "    </tr>\n",
              "  </thead>\n",
              "  <tbody>\n",
              "    <tr>\n",
              "      <th>0</th>\n",
              "      <td>0.0</td>\n",
              "      <td>107.00</td>\n",
              "      <td>11.10</td>\n",
              "      <td>879.60</td>\n",
              "      <td>744.20</td>\n",
              "      <td>28.0</td>\n",
              "      <td>0.703219</td>\n",
              "      <td>31.875165</td>\n",
              "    </tr>\n",
              "    <tr>\n",
              "      <th>1</th>\n",
              "      <td>0.0</td>\n",
              "      <td>0.00</td>\n",
              "      <td>0.00</td>\n",
              "      <td>1040.00</td>\n",
              "      <td>734.00</td>\n",
              "      <td>28.0</td>\n",
              "      <td>0.468514</td>\n",
              "      <td>36.935229</td>\n",
              "    </tr>\n",
              "    <tr>\n",
              "      <th>2</th>\n",
              "      <td>0.0</td>\n",
              "      <td>118.27</td>\n",
              "      <td>6.35</td>\n",
              "      <td>1028.40</td>\n",
              "      <td>757.73</td>\n",
              "      <td>56.0</td>\n",
              "      <td>0.749692</td>\n",
              "      <td>36.638755</td>\n",
              "    </tr>\n",
              "    <tr>\n",
              "      <th>3</th>\n",
              "      <td>140.0</td>\n",
              "      <td>0.00</td>\n",
              "      <td>6.00</td>\n",
              "      <td>895.00</td>\n",
              "      <td>722.00</td>\n",
              "      <td>28.0</td>\n",
              "      <td>0.703947</td>\n",
              "      <td>33.418902</td>\n",
              "    </tr>\n",
              "    <tr>\n",
              "      <th>4</th>\n",
              "      <td>0.0</td>\n",
              "      <td>0.00</td>\n",
              "      <td>0.00</td>\n",
              "      <td>1040.00</td>\n",
              "      <td>734.00</td>\n",
              "      <td>7.0</td>\n",
              "      <td>0.626263</td>\n",
              "      <td>30.957472</td>\n",
              "    </tr>\n",
              "    <tr>\n",
              "      <th>...</th>\n",
              "      <td>...</td>\n",
              "      <td>...</td>\n",
              "      <td>...</td>\n",
              "      <td>...</td>\n",
              "      <td>...</td>\n",
              "      <td>...</td>\n",
              "      <td>...</td>\n",
              "      <td>...</td>\n",
              "    </tr>\n",
              "    <tr>\n",
              "      <th>767</th>\n",
              "      <td>0.0</td>\n",
              "      <td>0.00</td>\n",
              "      <td>0.00</td>\n",
              "      <td>1111.60</td>\n",
              "      <td>784.30</td>\n",
              "      <td>7.0</td>\n",
              "      <td>0.735446</td>\n",
              "      <td>11.483912</td>\n",
              "    </tr>\n",
              "    <tr>\n",
              "      <th>768</th>\n",
              "      <td>0.0</td>\n",
              "      <td>98.75</td>\n",
              "      <td>12.80</td>\n",
              "      <td>987.76</td>\n",
              "      <td>889.01</td>\n",
              "      <td>56.0</td>\n",
              "      <td>0.634725</td>\n",
              "      <td>42.030457</td>\n",
              "    </tr>\n",
              "    <tr>\n",
              "      <th>769</th>\n",
              "      <td>0.0</td>\n",
              "      <td>0.00</td>\n",
              "      <td>0.00</td>\n",
              "      <td>889.80</td>\n",
              "      <td>945.00</td>\n",
              "      <td>3.0</td>\n",
              "      <td>0.752941</td>\n",
              "      <td>8.204075</td>\n",
              "    </tr>\n",
              "    <tr>\n",
              "      <th>770</th>\n",
              "      <td>0.0</td>\n",
              "      <td>125.40</td>\n",
              "      <td>7.77</td>\n",
              "      <td>1090.00</td>\n",
              "      <td>804.01</td>\n",
              "      <td>100.0</td>\n",
              "      <td>0.850325</td>\n",
              "      <td>40.568768</td>\n",
              "    </tr>\n",
              "    <tr>\n",
              "      <th>771</th>\n",
              "      <td>187.0</td>\n",
              "      <td>0.00</td>\n",
              "      <td>11.00</td>\n",
              "      <td>990.00</td>\n",
              "      <td>789.00</td>\n",
              "      <td>28.0</td>\n",
              "      <td>1.106918</td>\n",
              "      <td>32.763900</td>\n",
              "    </tr>\n",
              "  </tbody>\n",
              "</table>\n",
              "<p>772 rows × 8 columns</p>\n",
              "</div>"
            ],
            "text/plain": [
              "     furnace_slag  fly_ash  ...  water-cement-ratio  compressive_strength\n",
              "0             0.0   107.00  ...            0.703219             31.875165\n",
              "1             0.0     0.00  ...            0.468514             36.935229\n",
              "2             0.0   118.27  ...            0.749692             36.638755\n",
              "3           140.0     0.00  ...            0.703947             33.418902\n",
              "4             0.0     0.00  ...            0.626263             30.957472\n",
              "..            ...      ...  ...                 ...                   ...\n",
              "767           0.0     0.00  ...            0.735446             11.483912\n",
              "768           0.0    98.75  ...            0.634725             42.030457\n",
              "769           0.0     0.00  ...            0.752941              8.204075\n",
              "770           0.0   125.40  ...            0.850325             40.568768\n",
              "771         187.0     0.00  ...            1.106918             32.763900\n",
              "\n",
              "[772 rows x 8 columns]"
            ]
          },
          "metadata": {
            "tags": []
          },
          "execution_count": 86
        }
      ]
    },
    {
      "cell_type": "code",
      "metadata": {
        "id": "NDmHPnx7sXlL",
        "colab_type": "code",
        "colab": {}
      },
      "source": [
        "X = new_data.drop(['compressive_strength'], axis = 1)\n",
        "y = new_data['compressive_strength']"
      ],
      "execution_count": null,
      "outputs": []
    },
    {
      "cell_type": "code",
      "metadata": {
        "id": "Zx1wD55Lsxy1",
        "colab_type": "code",
        "colab": {}
      },
      "source": [
        "from sklearn.model_selection import train_test_split\n",
        "X_train, X_val, y_train, y_val = train_test_split(X,y,test_size=0.3, random_state = 123)\n"
      ],
      "execution_count": null,
      "outputs": []
    },
    {
      "cell_type": "code",
      "metadata": {
        "id": "OMnahmK24EeT",
        "colab_type": "code",
        "colab": {
          "base_uri": "https://localhost:8080/",
          "height": 136
        },
        "outputId": "01a05a9b-fc55-4d43-e005-318e07caf672"
      },
      "source": [
        "from sklearn.ensemble import RandomForestRegressor\n",
        "rf = RandomForestRegressor()\n",
        "rf.fit(X_train,y_train)"
      ],
      "execution_count": null,
      "outputs": [
        {
          "output_type": "execute_result",
          "data": {
            "text/plain": [
              "RandomForestRegressor(bootstrap=True, ccp_alpha=0.0, criterion='mse',\n",
              "                      max_depth=None, max_features='auto', max_leaf_nodes=None,\n",
              "                      max_samples=None, min_impurity_decrease=0.0,\n",
              "                      min_impurity_split=None, min_samples_leaf=1,\n",
              "                      min_samples_split=2, min_weight_fraction_leaf=0.0,\n",
              "                      n_estimators=100, n_jobs=None, oob_score=False,\n",
              "                      random_state=None, verbose=0, warm_start=False)"
            ]
          },
          "metadata": {
            "tags": []
          },
          "execution_count": 54
        }
      ]
    },
    {
      "cell_type": "code",
      "metadata": {
        "id": "9vmvDf3f1t2J",
        "colab_type": "code",
        "colab": {}
      },
      "source": [
        "pred_rf = rf.predict(X_val)"
      ],
      "execution_count": null,
      "outputs": []
    },
    {
      "cell_type": "code",
      "metadata": {
        "id": "ih2GNP0L11ib",
        "colab_type": "code",
        "colab": {
          "base_uri": "https://localhost:8080/",
          "height": 34
        },
        "outputId": "ed0bd775-323f-42fe-d9a9-ecb6070d2775"
      },
      "source": [
        "from sklearn.metrics import mean_squared_error\n",
        "print('Root Mean Squared Error is: ', np.sqrt(mean_squared_error(y_val, pred_rf))) "
      ],
      "execution_count": null,
      "outputs": [
        {
          "output_type": "stream",
          "text": [
            "Root Mean Squared Error is:  0.06657537735873756\n"
          ],
          "name": "stdout"
        }
      ]
    },
    {
      "cell_type": "code",
      "metadata": {
        "id": "l8q97dzDt1v2",
        "colab_type": "code",
        "colab": {
          "base_uri": "https://localhost:8080/",
          "height": 170
        },
        "outputId": "7b1223db-3f94-4764-f798-70dac269eff8"
      },
      "source": [
        "from sklearn.ensemble import GradientBoostingRegressor\n",
        "gbr = GradientBoostingRegressor()\n",
        "gbr.fit(X_train,y_train)"
      ],
      "execution_count": null,
      "outputs": [
        {
          "output_type": "execute_result",
          "data": {
            "text/plain": [
              "GradientBoostingRegressor(alpha=0.9, ccp_alpha=0.0, criterion='friedman_mse',\n",
              "                          init=None, learning_rate=0.1, loss='ls', max_depth=3,\n",
              "                          max_features=None, max_leaf_nodes=None,\n",
              "                          min_impurity_decrease=0.0, min_impurity_split=None,\n",
              "                          min_samples_leaf=1, min_samples_split=2,\n",
              "                          min_weight_fraction_leaf=0.0, n_estimators=100,\n",
              "                          n_iter_no_change=None, presort='deprecated',\n",
              "                          random_state=None, subsample=1.0, tol=0.0001,\n",
              "                          validation_fraction=0.1, verbose=0, warm_start=False)"
            ]
          },
          "metadata": {
            "tags": []
          },
          "execution_count": 75
        }
      ]
    },
    {
      "cell_type": "code",
      "metadata": {
        "id": "ZL-bp9lN7qGq",
        "colab_type": "code",
        "colab": {
          "base_uri": "https://localhost:8080/",
          "height": 34
        },
        "outputId": "bef2cd89-75c0-4adf-d5e4-be2f1609e1ff"
      },
      "source": [
        "pred_gbr = gbr.predict(X_val)\n",
        "from sklearn.metrics import mean_squared_error\n",
        "print('Root Mean Squared Error is: ', np.sqrt(mean_squared_error(y_val, pred_gbr))) "
      ],
      "execution_count": null,
      "outputs": [
        {
          "output_type": "stream",
          "text": [
            "Root Mean Squared Error is:  5.478900706687716\n"
          ],
          "name": "stdout"
        }
      ]
    },
    {
      "cell_type": "code",
      "metadata": {
        "id": "LwqfeEi_3qwC",
        "colab_type": "code",
        "colab": {
          "base_uri": "https://localhost:8080/",
          "height": 153
        },
        "outputId": "89649a61-1091-4ae8-b994-5147ca8e0c57"
      },
      "source": [
        "import xgboost as xgb\n",
        "from xgboost.sklearn import XGBRegressor\n",
        "xgr =XGBRegressor()\n",
        "xgr.fit(X_train,y_train)"
      ],
      "execution_count": null,
      "outputs": [
        {
          "output_type": "stream",
          "text": [
            "[04:26:42] WARNING: /workspace/src/objective/regression_obj.cu:152: reg:linear is now deprecated in favor of reg:squarederror.\n"
          ],
          "name": "stdout"
        },
        {
          "output_type": "execute_result",
          "data": {
            "text/plain": [
              "XGBRegressor(base_score=0.5, booster='gbtree', colsample_bylevel=1,\n",
              "             colsample_bynode=1, colsample_bytree=1, gamma=0,\n",
              "             importance_type='gain', learning_rate=0.1, max_delta_step=0,\n",
              "             max_depth=3, min_child_weight=1, missing=None, n_estimators=100,\n",
              "             n_jobs=1, nthread=None, objective='reg:linear', random_state=0,\n",
              "             reg_alpha=0, reg_lambda=1, scale_pos_weight=1, seed=None,\n",
              "             silent=None, subsample=1, verbosity=1)"
            ]
          },
          "metadata": {
            "tags": []
          },
          "execution_count": 57
        }
      ]
    },
    {
      "cell_type": "code",
      "metadata": {
        "id": "eO-2MwRN73XR",
        "colab_type": "code",
        "colab": {
          "base_uri": "https://localhost:8080/",
          "height": 34
        },
        "outputId": "d73097be-6b60-473f-e242-659653ae6d36"
      },
      "source": [
        "pred_xgr = xgr.predict(X_val)\n",
        "from sklearn.metrics import mean_squared_error\n",
        "print('Root Mean Squared Error is: ', np.sqrt(mean_squared_error(y_val, pred_xgr))) "
      ],
      "execution_count": null,
      "outputs": [
        {
          "output_type": "stream",
          "text": [
            "Root Mean Squared Error is:  0.06578959890963229\n"
          ],
          "name": "stdout"
        }
      ]
    },
    {
      "cell_type": "code",
      "metadata": {
        "id": "w8pwgpZW2AD8",
        "colab_type": "code",
        "colab": {
          "base_uri": "https://localhost:8080/",
          "height": 221
        },
        "outputId": "9e6601ee-d09f-4283-c2c5-ca5e456a750f"
      },
      "source": [
        "test_data = pd.read_csv('https://raw.githubusercontent.com/dphi-official/Datasets/master/concrete_data/testing_set_label.csv')\n",
        "test_data.head()"
      ],
      "execution_count": null,
      "outputs": [
        {
          "output_type": "execute_result",
          "data": {
            "text/html": [
              "<div>\n",
              "<style scoped>\n",
              "    .dataframe tbody tr th:only-of-type {\n",
              "        vertical-align: middle;\n",
              "    }\n",
              "\n",
              "    .dataframe tbody tr th {\n",
              "        vertical-align: top;\n",
              "    }\n",
              "\n",
              "    .dataframe thead th {\n",
              "        text-align: right;\n",
              "    }\n",
              "</style>\n",
              "<table border=\"1\" class=\"dataframe\">\n",
              "  <thead>\n",
              "    <tr style=\"text-align: right;\">\n",
              "      <th></th>\n",
              "      <th>Cement (component 1)(kg in a m^3 mixture)</th>\n",
              "      <th>Blast Furnace Slag (component 2)(kg in a m^3 mixture)</th>\n",
              "      <th>Fly Ash (component 3)(kg in a m^3 mixture)</th>\n",
              "      <th>Water  (component 4)(kg in a m^3 mixture)</th>\n",
              "      <th>Superplasticizer (component 5)(kg in a m^3 mixture)</th>\n",
              "      <th>Coarse Aggregate  (component 6)(kg in a m^3 mixture)</th>\n",
              "      <th>Fine Aggregate (component 7)(kg in a m^3 mixture)</th>\n",
              "      <th>Age (day)</th>\n",
              "    </tr>\n",
              "  </thead>\n",
              "  <tbody>\n",
              "    <tr>\n",
              "      <th>0</th>\n",
              "      <td>167.00</td>\n",
              "      <td>187.00</td>\n",
              "      <td>195.00</td>\n",
              "      <td>185.00</td>\n",
              "      <td>7.00</td>\n",
              "      <td>898.0</td>\n",
              "      <td>636.00</td>\n",
              "      <td>28</td>\n",
              "    </tr>\n",
              "    <tr>\n",
              "      <th>1</th>\n",
              "      <td>148.50</td>\n",
              "      <td>139.40</td>\n",
              "      <td>108.60</td>\n",
              "      <td>192.70</td>\n",
              "      <td>6.10</td>\n",
              "      <td>892.4</td>\n",
              "      <td>780.00</td>\n",
              "      <td>28</td>\n",
              "    </tr>\n",
              "    <tr>\n",
              "      <th>2</th>\n",
              "      <td>154.80</td>\n",
              "      <td>0.00</td>\n",
              "      <td>142.80</td>\n",
              "      <td>193.30</td>\n",
              "      <td>9.10</td>\n",
              "      <td>877.2</td>\n",
              "      <td>867.70</td>\n",
              "      <td>28</td>\n",
              "    </tr>\n",
              "    <tr>\n",
              "      <th>3</th>\n",
              "      <td>236.00</td>\n",
              "      <td>0.00</td>\n",
              "      <td>0.00</td>\n",
              "      <td>193.00</td>\n",
              "      <td>0.00</td>\n",
              "      <td>968.0</td>\n",
              "      <td>885.00</td>\n",
              "      <td>365</td>\n",
              "    </tr>\n",
              "    <tr>\n",
              "      <th>4</th>\n",
              "      <td>168.88</td>\n",
              "      <td>42.22</td>\n",
              "      <td>124.25</td>\n",
              "      <td>158.33</td>\n",
              "      <td>10.83</td>\n",
              "      <td>1080.8</td>\n",
              "      <td>796.15</td>\n",
              "      <td>14</td>\n",
              "    </tr>\n",
              "  </tbody>\n",
              "</table>\n",
              "</div>"
            ],
            "text/plain": [
              "   Cement (component 1)(kg in a m^3 mixture)  ...  Age (day)\n",
              "0                                     167.00  ...         28\n",
              "1                                     148.50  ...         28\n",
              "2                                     154.80  ...         28\n",
              "3                                     236.00  ...        365\n",
              "4                                     168.88  ...         14\n",
              "\n",
              "[5 rows x 8 columns]"
            ]
          },
          "metadata": {
            "tags": []
          },
          "execution_count": 59
        }
      ]
    },
    {
      "cell_type": "code",
      "metadata": {
        "id": "aBMy6mwRWyoJ",
        "colab_type": "code",
        "colab": {
          "base_uri": "https://localhost:8080/",
          "height": 204
        },
        "outputId": "cfdb8b80-05bd-4c61-c2b6-eddbfceccdfa"
      },
      "source": [
        "test_data_1 = test_data.rename(columns={'Cement (component 1)(kg in a m^3 mixture)':\"cement\",\n",
        "       'Blast Furnace Slag (component 2)(kg in a m^3 mixture)':\"furnace_slag\",\n",
        "       'Fly Ash (component 3)(kg in a m^3 mixture)':\"fly_ash\",\n",
        "       'Water  (component 4)(kg in a m^3 mixture)':\"water\",\n",
        "       'Superplasticizer (component 5)(kg in a m^3 mixture)':\"super_plasticizer\",\n",
        "       'Coarse Aggregate  (component 6)(kg in a m^3 mixture)':\"coarse_agg\",\n",
        "       'Fine Aggregate (component 7)(kg in a m^3 mixture)':\"fine_agg\", 'Age (day)':\"age\",\n",
        "       'Concrete compressive strength(MPa, megapascals) ':\"compressive_strength\"})\n",
        "test_data_1.head()"
      ],
      "execution_count": null,
      "outputs": [
        {
          "output_type": "execute_result",
          "data": {
            "text/html": [
              "<div>\n",
              "<style scoped>\n",
              "    .dataframe tbody tr th:only-of-type {\n",
              "        vertical-align: middle;\n",
              "    }\n",
              "\n",
              "    .dataframe tbody tr th {\n",
              "        vertical-align: top;\n",
              "    }\n",
              "\n",
              "    .dataframe thead th {\n",
              "        text-align: right;\n",
              "    }\n",
              "</style>\n",
              "<table border=\"1\" class=\"dataframe\">\n",
              "  <thead>\n",
              "    <tr style=\"text-align: right;\">\n",
              "      <th></th>\n",
              "      <th>cement</th>\n",
              "      <th>furnace_slag</th>\n",
              "      <th>fly_ash</th>\n",
              "      <th>water</th>\n",
              "      <th>super_plasticizer</th>\n",
              "      <th>coarse_agg</th>\n",
              "      <th>fine_agg</th>\n",
              "      <th>age</th>\n",
              "    </tr>\n",
              "  </thead>\n",
              "  <tbody>\n",
              "    <tr>\n",
              "      <th>0</th>\n",
              "      <td>167.00</td>\n",
              "      <td>187.00</td>\n",
              "      <td>195.00</td>\n",
              "      <td>185.00</td>\n",
              "      <td>7.00</td>\n",
              "      <td>898.0</td>\n",
              "      <td>636.00</td>\n",
              "      <td>28</td>\n",
              "    </tr>\n",
              "    <tr>\n",
              "      <th>1</th>\n",
              "      <td>148.50</td>\n",
              "      <td>139.40</td>\n",
              "      <td>108.60</td>\n",
              "      <td>192.70</td>\n",
              "      <td>6.10</td>\n",
              "      <td>892.4</td>\n",
              "      <td>780.00</td>\n",
              "      <td>28</td>\n",
              "    </tr>\n",
              "    <tr>\n",
              "      <th>2</th>\n",
              "      <td>154.80</td>\n",
              "      <td>0.00</td>\n",
              "      <td>142.80</td>\n",
              "      <td>193.30</td>\n",
              "      <td>9.10</td>\n",
              "      <td>877.2</td>\n",
              "      <td>867.70</td>\n",
              "      <td>28</td>\n",
              "    </tr>\n",
              "    <tr>\n",
              "      <th>3</th>\n",
              "      <td>236.00</td>\n",
              "      <td>0.00</td>\n",
              "      <td>0.00</td>\n",
              "      <td>193.00</td>\n",
              "      <td>0.00</td>\n",
              "      <td>968.0</td>\n",
              "      <td>885.00</td>\n",
              "      <td>365</td>\n",
              "    </tr>\n",
              "    <tr>\n",
              "      <th>4</th>\n",
              "      <td>168.88</td>\n",
              "      <td>42.22</td>\n",
              "      <td>124.25</td>\n",
              "      <td>158.33</td>\n",
              "      <td>10.83</td>\n",
              "      <td>1080.8</td>\n",
              "      <td>796.15</td>\n",
              "      <td>14</td>\n",
              "    </tr>\n",
              "  </tbody>\n",
              "</table>\n",
              "</div>"
            ],
            "text/plain": [
              "   cement  furnace_slag  fly_ash  ...  coarse_agg  fine_agg  age\n",
              "0  167.00        187.00   195.00  ...       898.0    636.00   28\n",
              "1  148.50        139.40   108.60  ...       892.4    780.00   28\n",
              "2  154.80          0.00   142.80  ...       877.2    867.70   28\n",
              "3  236.00          0.00     0.00  ...       968.0    885.00  365\n",
              "4  168.88         42.22   124.25  ...      1080.8    796.15   14\n",
              "\n",
              "[5 rows x 8 columns]"
            ]
          },
          "metadata": {
            "tags": []
          },
          "execution_count": 60
        }
      ]
    },
    {
      "cell_type": "code",
      "metadata": {
        "id": "U0k5hvovcB54",
        "colab_type": "code",
        "colab": {
          "base_uri": "https://localhost:8080/",
          "height": 204
        },
        "outputId": "fe5bd0d4-ab91-4d51-acf4-1dbeddf0d0e3"
      },
      "source": [
        "T1 = test_data_1.copy()\n",
        "T1.insert(T1.shape[-1],'water-cement-ratio', T1['water']/T1['cement'])\n",
        "T1.drop(['water', 'cement'], axis=1, inplace=True)\n",
        "\n",
        "# scale it!\n",
        "scaler = MaxAbsScaler()\n",
        "T1_scaled = T1.copy()\n",
        "T1_sc = scaler.fit_transform(T1)\n",
        "T1_scaled.loc[:,:] = T1_sc\n",
        "\n",
        "# making the scaling function more accessible\n",
        "extract_scaling_f = np.ones((1,T1.shape[1]))\n",
        "extract_scaling_f = scaler.inverse_transform(extract_scaling_f)\n",
        "\n",
        "new_data1 = T1_scaled.copy()\n",
        "new_data1.head()"
      ],
      "execution_count": null,
      "outputs": [
        {
          "output_type": "execute_result",
          "data": {
            "text/html": [
              "<div>\n",
              "<style scoped>\n",
              "    .dataframe tbody tr th:only-of-type {\n",
              "        vertical-align: middle;\n",
              "    }\n",
              "\n",
              "    .dataframe tbody tr th {\n",
              "        vertical-align: top;\n",
              "    }\n",
              "\n",
              "    .dataframe thead th {\n",
              "        text-align: right;\n",
              "    }\n",
              "</style>\n",
              "<table border=\"1\" class=\"dataframe\">\n",
              "  <thead>\n",
              "    <tr style=\"text-align: right;\">\n",
              "      <th></th>\n",
              "      <th>furnace_slag</th>\n",
              "      <th>fly_ash</th>\n",
              "      <th>super_plasticizer</th>\n",
              "      <th>coarse_agg</th>\n",
              "      <th>fine_agg</th>\n",
              "      <th>age</th>\n",
              "      <th>water-cement-ratio</th>\n",
              "    </tr>\n",
              "  </thead>\n",
              "  <tbody>\n",
              "    <tr>\n",
              "      <th>0</th>\n",
              "      <td>0.612512</td>\n",
              "      <td>0.97500</td>\n",
              "      <td>0.217391</td>\n",
              "      <td>0.791678</td>\n",
              "      <td>0.640741</td>\n",
              "      <td>0.076712</td>\n",
              "      <td>0.588510</td>\n",
              "    </tr>\n",
              "    <tr>\n",
              "      <th>1</th>\n",
              "      <td>0.456600</td>\n",
              "      <td>0.54300</td>\n",
              "      <td>0.189441</td>\n",
              "      <td>0.786741</td>\n",
              "      <td>0.785815</td>\n",
              "      <td>0.076712</td>\n",
              "      <td>0.689373</td>\n",
              "    </tr>\n",
              "    <tr>\n",
              "      <th>2</th>\n",
              "      <td>0.000000</td>\n",
              "      <td>0.71400</td>\n",
              "      <td>0.282609</td>\n",
              "      <td>0.773340</td>\n",
              "      <td>0.874169</td>\n",
              "      <td>0.076712</td>\n",
              "      <td>0.663376</td>\n",
              "    </tr>\n",
              "    <tr>\n",
              "      <th>3</th>\n",
              "      <td>0.000000</td>\n",
              "      <td>0.00000</td>\n",
              "      <td>0.000000</td>\n",
              "      <td>0.853390</td>\n",
              "      <td>0.891598</td>\n",
              "      <td>1.000000</td>\n",
              "      <td>0.434454</td>\n",
              "    </tr>\n",
              "    <tr>\n",
              "      <th>4</th>\n",
              "      <td>0.138290</td>\n",
              "      <td>0.62125</td>\n",
              "      <td>0.336335</td>\n",
              "      <td>0.952834</td>\n",
              "      <td>0.802085</td>\n",
              "      <td>0.038356</td>\n",
              "      <td>0.498063</td>\n",
              "    </tr>\n",
              "  </tbody>\n",
              "</table>\n",
              "</div>"
            ],
            "text/plain": [
              "   furnace_slag  fly_ash  ...       age  water-cement-ratio\n",
              "0      0.612512  0.97500  ...  0.076712            0.588510\n",
              "1      0.456600  0.54300  ...  0.076712            0.689373\n",
              "2      0.000000  0.71400  ...  0.076712            0.663376\n",
              "3      0.000000  0.00000  ...  1.000000            0.434454\n",
              "4      0.138290  0.62125  ...  0.038356            0.498063\n",
              "\n",
              "[5 rows x 7 columns]"
            ]
          },
          "metadata": {
            "tags": []
          },
          "execution_count": 75
        }
      ]
    },
    {
      "cell_type": "code",
      "metadata": {
        "id": "OHX8ZZLqg67i",
        "colab_type": "code",
        "colab": {
          "base_uri": "https://localhost:8080/",
          "height": 51
        },
        "outputId": "4e6fdd02-280b-42d8-bf94-251bb5d94678"
      },
      "source": [
        "xgr.feature_importances_"
      ],
      "execution_count": null,
      "outputs": [
        {
          "output_type": "execute_result",
          "data": {
            "text/plain": [
              "array([0.08241802, 0.03451257, 0.1236321 , 0.02132194, 0.04576763,\n",
              "       0.37207282, 0.3202748 ], dtype=float32)"
            ]
          },
          "metadata": {
            "tags": []
          },
          "execution_count": 74
        }
      ]
    },
    {
      "cell_type": "code",
      "metadata": {
        "id": "wS0FvyEApFda",
        "colab_type": "code",
        "colab": {
          "base_uri": "https://localhost:8080/",
          "height": 34
        },
        "outputId": "a814036d-8c13-476e-a2c3-d552ad251aa0"
      },
      "source": [
        "extract_scaling_f.shape"
      ],
      "execution_count": null,
      "outputs": [
        {
          "output_type": "execute_result",
          "data": {
            "text/plain": [
              "(1, 7)"
            ]
          },
          "metadata": {
            "tags": []
          },
          "execution_count": 84
        }
      ]
    },
    {
      "cell_type": "code",
      "metadata": {
        "id": "0RvNNaj02ohY",
        "colab_type": "code",
        "colab": {}
      },
      "source": [
        "target = xgr.predict(new_data1)"
      ],
      "execution_count": null,
      "outputs": []
    },
    {
      "cell_type": "code",
      "metadata": {
        "id": "emHXvhy7ec5Y",
        "colab_type": "code",
        "colab": {
          "base_uri": "https://localhost:8080/",
          "height": 901
        },
        "outputId": "a810765e-8530-4ec1-af26-b9ddfcc0cfb9"
      },
      "source": [
        "target"
      ],
      "execution_count": null,
      "outputs": [
        {
          "output_type": "execute_result",
          "data": {
            "text/plain": [
              "array([0.3479968 , 0.37386656, 0.18242404, 0.40184134, 0.36939958,\n",
              "       0.5763907 , 0.2785781 , 0.48522434, 0.65482265, 0.58104247,\n",
              "       0.2516744 , 0.79039025, 0.6403819 , 0.16160709, 0.289981  ,\n",
              "       0.40504578, 0.15041557, 0.31793797, 0.4739764 , 0.2730748 ,\n",
              "       0.2702497 , 0.43272763, 0.791437  , 0.37440807, 0.5217613 ,\n",
              "       0.9391786 , 0.6099823 , 0.480228  , 0.5520355 , 0.87589777,\n",
              "       0.45893055, 0.4745664 , 0.5223409 , 0.37438405, 0.28008965,\n",
              "       0.42452455, 0.41640455, 0.21306238, 0.26267847, 0.50302017,\n",
              "       0.8174261 , 0.6119052 , 0.20498651, 0.31451905, 0.4950422 ,\n",
              "       0.36749056, 0.8149291 , 0.4957741 , 0.42115384, 0.3707478 ,\n",
              "       0.7526096 , 0.37564525, 0.41547042, 0.52087504, 0.17773661,\n",
              "       0.3488318 , 0.54532444, 0.45445693, 0.3595397 , 0.14562678,\n",
              "       0.44363928, 0.2702497 , 0.43587655, 0.34943762, 0.6144894 ,\n",
              "       0.38129434, 0.5886418 , 0.6163554 , 0.41344225, 0.10042545,\n",
              "       0.11161658, 0.1569969 , 0.3104493 , 0.5308513 , 0.4107756 ,\n",
              "       0.3201576 , 0.4192468 , 0.7191024 , 0.42746848, 0.39131817,\n",
              "       0.20115787, 0.5217613 , 0.28005874, 0.65923274, 0.44672328,\n",
              "       0.67687154, 0.72364664, 0.11010033, 0.4006466 , 0.55260634,\n",
              "       0.63360727, 0.5485883 , 0.1306822 , 0.24904823, 0.14149624,\n",
              "       0.3231867 , 0.5164759 , 0.39234012, 0.42095548, 0.45155096,\n",
              "       0.19244796, 0.5461269 , 0.43489847, 0.20185274, 0.35359418,\n",
              "       0.6435144 , 0.31759116, 0.28398085, 0.42504895, 0.1248517 ,\n",
              "       0.43392485, 0.13282388, 0.8696485 , 0.49066487, 0.62002635,\n",
              "       0.35338178, 0.5748842 , 0.4097484 , 0.13007915, 0.33091712,\n",
              "       0.9189173 , 0.5665947 , 0.5031623 , 0.43877918, 0.37271634,\n",
              "       0.3781718 , 0.2272853 , 0.32454595, 0.55299747, 0.5963804 ,\n",
              "       0.41941023, 0.55042243, 0.48332915, 0.47188213, 0.8225832 ,\n",
              "       0.7096951 , 0.53708774, 0.15486336, 0.6304522 , 0.42504895,\n",
              "       0.46323502, 0.37495393, 0.4207381 , 0.3431805 , 0.79385984,\n",
              "       0.25853735, 0.33322906, 0.4192468 , 0.450102  , 0.33504325,\n",
              "       0.5109041 , 0.700708  , 0.64210176, 0.318915  , 0.42700303,\n",
              "       0.51460385, 0.154324  , 0.41473567, 0.56151736, 0.66815704,\n",
              "       0.3707581 , 0.6406689 , 0.14150447, 0.4662428 , 0.37093657,\n",
              "       0.43570882, 0.6457062 , 0.9391786 , 0.4547608 , 0.5327848 ,\n",
              "       0.3104493 , 0.53851444, 0.46248364, 0.47434545, 0.34339887,\n",
              "       0.3431805 , 0.31725717, 0.4351418 , 0.3171751 , 0.3807957 ,\n",
              "       0.3494495 , 0.1322132 , 0.67606777, 0.40670526, 0.41869763,\n",
              "       0.43883228, 0.15978768, 0.47188213, 0.41547042, 0.18586642,\n",
              "       0.35873532, 0.7097512 , 0.24323615, 0.20069   , 0.6589082 ,\n",
              "       0.14625573, 0.7564899 , 0.572306  , 0.5917522 , 0.59840095,\n",
              "       0.31451905, 0.3036974 , 0.09761688, 0.90161884, 0.2776093 ,\n",
              "       0.4843296 , 0.27847922, 0.1695666 , 0.5299944 , 0.36943328,\n",
              "       0.38317147, 0.8709667 , 0.403975  , 0.321962  , 0.5613203 ,\n",
              "       0.3270855 , 0.652352  , 0.572306  , 0.75542045, 0.35031542,\n",
              "       0.5497029 , 0.36790282, 0.2234529 , 0.2948094 , 0.80398536,\n",
              "       0.14935088, 0.19543484, 0.34510595, 0.63357186, 0.67531216,\n",
              "       0.4869174 , 0.47142398, 0.10347143, 0.2682367 , 0.5176858 ,\n",
              "       0.37204224, 0.43883228, 0.19851378, 0.6108548 , 0.3232102 ,\n",
              "       0.24616551, 0.45588824, 0.48185602, 0.15629914, 0.6395296 ,\n",
              "       0.06839329, 0.58529776, 0.752422  , 0.49030647, 0.6579534 ,\n",
              "       0.6261937 , 0.47924945, 0.8990073 , 0.725283  , 0.7096951 ,\n",
              "       0.24995872, 0.39385736, 0.53911346], dtype=float32)"
            ]
          },
          "metadata": {
            "tags": []
          },
          "execution_count": 77
        }
      ]
    },
    {
      "cell_type": "code",
      "metadata": {
        "id": "Z81ilalWmahj",
        "colab_type": "code",
        "colab": {
          "base_uri": "https://localhost:8080/",
          "height": 51
        },
        "outputId": "38f8ab34-0674-4e0d-ccc9-03eb45bc6db2"
      },
      "source": [
        "extract_scaling_function"
      ],
      "execution_count": null,
      "outputs": [
        {
          "output_type": "execute_result",
          "data": {
            "text/plain": [
              "array([[ 359.4       ,  200.1       ,   32.2       , 1145.        ,\n",
              "         992.6       ,  365.        ,    1.88235294,   82.5992248 ]])"
            ]
          },
          "metadata": {
            "tags": []
          },
          "execution_count": 89
        }
      ]
    },
    {
      "cell_type": "code",
      "metadata": {
        "id": "n1v8vKt_r_k7",
        "colab_type": "code",
        "colab": {
          "base_uri": "https://localhost:8080/",
          "height": 901
        },
        "outputId": "bb238c52-e453-4fbc-f94d-05d65661b72a"
      },
      "source": [
        "target_new = extract_scaling_function[0][7] * target\n",
        "target_new"
      ],
      "execution_count": null,
      "outputs": [
        {
          "output_type": "execute_result",
          "data": {
            "text/plain": [
              "array([28.744267 , 30.881088 , 15.068085 , 33.191784 , 30.51212  ,\n",
              "       47.609425 , 23.010336 , 40.079155 , 54.087845 , 47.99366  ,\n",
              "       20.788113 , 65.28562  , 52.89505  , 13.34862  , 23.952208 ,\n",
              "       33.456467 , 12.42421  , 26.26143  , 39.150085 , 22.555769 ,\n",
              "       22.322416 , 35.74297  , 65.372086 , 30.925817 , 43.09708  ,\n",
              "       77.575424 , 50.384068 , 39.666462 , 45.597706 , 72.34848  ,\n",
              "       37.90731  , 39.19882  , 43.144955 , 30.923834 , 23.13519  ,\n",
              "       35.0654   , 34.394695 , 17.598787 , 21.697039 , 41.549076 ,\n",
              "       67.51876  , 50.5429   , 16.931728 , 25.97903  , 40.890102 ,\n",
              "       30.354437 , 67.312515 , 40.950558 , 34.786983 , 30.623482 ,\n",
              "       62.164974 , 31.028008 , 34.317535 , 43.023876 , 14.680906 ,\n",
              "       28.813238 , 45.043377 , 37.537792 , 29.6977   , 12.02866  ,\n",
              "       36.64426  , 22.322416 , 36.003067 , 28.863277 , 50.756348 ,\n",
              "       31.494617 , 48.62136  , 50.91048  , 34.15001  ,  8.295065 ,\n",
              "        9.219443 , 12.967823 , 25.642872 , 43.847908 , 33.92975  ,\n",
              "       26.444769 , 34.629463 , 59.3973   , 35.308567 , 32.32258  ,\n",
              "       16.615484 , 43.09708  , 23.132635 , 54.452114 , 36.899    ,\n",
              "       55.909065 , 59.772655 ,  9.094202 , 33.093098 , 45.644855 ,\n",
              "       52.335472 , 45.31297  , 10.794249 , 20.571192 , 11.68748  ,\n",
              "       26.694971 , 42.66051  , 32.40699  , 34.7706   , 37.29776  ,\n",
              "       15.896053 , 45.10966  , 35.92228  , 16.67288  , 29.206606 ,\n",
              "       53.153793 , 26.232784 , 23.456598 , 35.108715 , 10.3126545,\n",
              "       35.841858 , 10.97115  , 71.8323   , 40.528538 , 51.2137   ,\n",
              "       29.189062 , 47.48499  , 33.844902 , 10.744437 , 27.333498 ,\n",
              "       75.90186  , 46.800285 , 41.560818 , 36.24282  , 30.786081 ,\n",
              "       31.236698 , 18.77359  , 26.807245 , 45.677162 , 49.260563 ,\n",
              "       34.64296  , 45.464466 , 39.922615 , 38.9771   , 67.94474  ,\n",
              "       58.620266 , 44.363033 , 12.791594 , 52.074867 , 35.108715 ,\n",
              "       38.262856 , 30.970905 , 34.752644 , 28.346445 , 65.57221  ,\n",
              "       21.354986 , 27.524464 , 34.629463 , 37.178078 , 27.674314 ,\n",
              "       42.200283 , 57.877937 , 53.03711  , 26.342134 , 35.27012  ,\n",
              "       42.505882 , 12.747043 , 34.256847 , 46.3809   , 55.189255 ,\n",
              "       30.624332 , 52.91876  , 11.68816  , 38.511295 , 30.639074 ,\n",
              "       35.989212 , 53.33483  , 77.575424 , 37.56289  , 44.007614 ,\n",
              "       25.642872 , 44.480877 , 38.20079  , 39.18057  , 28.364481 ,\n",
              "       28.346445 , 26.205196 , 35.942375 , 26.198418 , 31.45343  ,\n",
              "       28.864258 , 10.920709 , 55.842674 , 33.59354  , 34.5841   ,\n",
              "       36.247208 , 13.198339 , 38.9771   , 34.317535 , 15.352423 ,\n",
              "       29.63126  , 58.6249   , 20.091118 , 16.57684  , 54.42531  ,\n",
              "       12.08061  , 62.48548  , 47.272034 , 48.878273 , 49.427456 ,\n",
              "       25.97903  , 25.08517  ,  8.063079 , 74.47302  , 22.930313 ,\n",
              "       40.005253 , 23.002169 , 14.00607  , 43.77713  , 30.514904 ,\n",
              "       31.649668 , 71.94118  , 33.368023 , 26.593813 , 46.364624 ,\n",
              "       27.01701  , 53.88377  , 47.272034 , 62.397144 , 28.935783 ,\n",
              "       45.405033 , 30.388489 , 18.457037 , 24.351028 , 66.40857  ,\n",
              "       12.336267 , 16.142767 , 28.505486 , 52.332546 , 55.780262 ,\n",
              "       40.219    , 38.93926  ,  8.54666  , 22.156143 , 42.760445 ,\n",
              "       30.730402 , 36.247208 , 16.397085 , 50.456135 , 26.696915 ,\n",
              "       20.333082 , 37.656017 , 39.800934 , 12.910189 , 52.82465  ,\n",
              "        5.649233 , 48.345142 , 62.149475 , 40.498936 , 54.346443 ,\n",
              "       51.723118 , 39.585636 , 74.25731  , 59.907818 , 58.620266 ,\n",
              "       20.646399 , 32.532314 , 44.530357 ], dtype=float32)"
            ]
          },
          "metadata": {
            "tags": []
          },
          "execution_count": 94
        }
      ]
    },
    {
      "cell_type": "code",
      "metadata": {
        "id": "nq9ShmGE2vC5",
        "colab_type": "code",
        "colab": {
          "base_uri": "https://localhost:8080/",
          "height": 17
        },
        "outputId": "e0b1aa38-6a94-4956-a365-6b9e5a37eed1"
      },
      "source": [
        "res = pd.DataFrame(target_new) # target are nothing but the final predictions of your model on input features of your new unseen test data\n",
        "res.index = test_data.index # its important for comparison. Here \"test_new\" is your new test dataset\n",
        "res.columns = [\"prediction\"]\n",
        "\n",
        "# To download the csv file locally\n",
        "from google.colab import files\n",
        "res.to_csv('submission.csv')         \n",
        "files.download('submission.csv')"
      ],
      "execution_count": null,
      "outputs": [
        {
          "output_type": "display_data",
          "data": {
            "application/javascript": [
              "\n",
              "    async function download(id, filename, size) {\n",
              "      if (!google.colab.kernel.accessAllowed) {\n",
              "        return;\n",
              "      }\n",
              "      const div = document.createElement('div');\n",
              "      const label = document.createElement('label');\n",
              "      label.textContent = `Downloading \"${filename}\": `;\n",
              "      div.appendChild(label);\n",
              "      const progress = document.createElement('progress');\n",
              "      progress.max = size;\n",
              "      div.appendChild(progress);\n",
              "      document.body.appendChild(div);\n",
              "\n",
              "      const buffers = [];\n",
              "      let downloaded = 0;\n",
              "\n",
              "      const channel = await google.colab.kernel.comms.open(id);\n",
              "      // Send a message to notify the kernel that we're ready.\n",
              "      channel.send({})\n",
              "\n",
              "      for await (const message of channel.messages) {\n",
              "        // Send a message to notify the kernel that we're ready.\n",
              "        channel.send({})\n",
              "        if (message.buffers) {\n",
              "          for (const buffer of message.buffers) {\n",
              "            buffers.push(buffer);\n",
              "            downloaded += buffer.byteLength;\n",
              "            progress.value = downloaded;\n",
              "          }\n",
              "        }\n",
              "      }\n",
              "      const blob = new Blob(buffers, {type: 'application/binary'});\n",
              "      const a = document.createElement('a');\n",
              "      a.href = window.URL.createObjectURL(blob);\n",
              "      a.download = filename;\n",
              "      div.appendChild(a);\n",
              "      a.click();\n",
              "      div.remove();\n",
              "    }\n",
              "  "
            ],
            "text/plain": [
              "<IPython.core.display.Javascript object>"
            ]
          },
          "metadata": {
            "tags": []
          }
        },
        {
          "output_type": "display_data",
          "data": {
            "application/javascript": [
              "download(\"download_9bd731b2-d99f-47af-ba6f-957b61779b38\", \"submission.csv\", 3412)"
            ],
            "text/plain": [
              "<IPython.core.display.Javascript object>"
            ]
          },
          "metadata": {
            "tags": []
          }
        }
      ]
    }
  ]
}